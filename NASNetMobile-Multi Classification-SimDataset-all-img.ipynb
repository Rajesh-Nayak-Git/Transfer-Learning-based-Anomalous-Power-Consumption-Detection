{
 "cells": [
  {
   "cell_type": "code",
   "execution_count": 1,
   "id": "72eac450",
   "metadata": {},
   "outputs": [],
   "source": [
    "import numpy as np \n",
    "import matplotlib.pyplot as plt\n",
    "import glob\n",
    "import cv2\n",
    "from tensorflow.keras.models import Model, Sequential\n",
    "from tensorflow.keras.layers import Dense, Flatten, Conv2D, MaxPooling2D\n",
    "# from tensorflow.keras.layers.normalization import BatchNormalization\n",
    "import os\n",
    "import seaborn as sns\n",
    "from keras.applications import NASNetMobile\n",
    "from tensorflow.python.keras.layers import Dense, Flatten, GlobalAveragePooling2D\n",
    "from sklearn import preprocessing"
   ]
  },
  {
   "cell_type": "code",
   "execution_count": 2,
   "id": "aaa3a157",
   "metadata": {},
   "outputs": [],
   "source": [
    "SIZE=224"
   ]
  },
  {
   "cell_type": "code",
   "execution_count": 3,
   "id": "99147fbd",
   "metadata": {},
   "outputs": [],
   "source": [
    "train_images, train_labels = [], []\n",
    "for directory_path in glob.glob(\"Training/*\"):\n",
    "    tr_label = directory_path.split(\"\\\\\")[-1]\n",
    "    for img_path in glob.glob(os.path.join(directory_path, \"*.png\")):\n",
    "        img = cv2.imread(img_path, cv2.IMREAD_COLOR)\n",
    "        train_images.append(img)\n",
    "        train_labels.append(tr_label)"
   ]
  },
  {
   "cell_type": "code",
   "execution_count": 4,
   "id": "97d11bd5",
   "metadata": {},
   "outputs": [],
   "source": [
    "test_images, test_labels = [], []\n",
    "for directory_path in glob.glob(\"Testing/*\"):\n",
    "    ts_label = directory_path.split(\"\\\\\")[-1]\n",
    "    for img_path in glob.glob(os.path.join(directory_path, \"*.png\")):\n",
    "        img = cv2.imread(img_path, cv2.IMREAD_COLOR)\n",
    "        test_images.append(img)\n",
    "        test_labels.append(ts_label)"
   ]
  },
  {
   "cell_type": "code",
   "execution_count": 5,
   "id": "5b0c7b20",
   "metadata": {},
   "outputs": [],
   "source": [
    "# Convert images and labels to numpy arrays\n",
    "x_train = np.array(train_images)\n",
    "y_train = np.array(train_labels)\n",
    "x_test = np.array(test_images)\n",
    "y_test = np.array(test_labels)"
   ]
  },
  {
   "cell_type": "code",
   "execution_count": 6,
   "id": "ee4e9b74",
   "metadata": {},
   "outputs": [
    {
     "data": {
      "text/plain": [
       "((8406, 224, 224, 3), (8406,), (2104, 224, 224, 3), (2104,))"
      ]
     },
     "execution_count": 6,
     "metadata": {},
     "output_type": "execute_result"
    }
   ],
   "source": [
    "x_train.shape, y_train.shape, x_test.shape, y_test.shape"
   ]
  },
  {
   "cell_type": "code",
   "execution_count": 7,
   "id": "116f41f3",
   "metadata": {},
   "outputs": [],
   "source": [
    "# Encode labels from text to integers\n",
    "label_encoder = preprocessing.LabelEncoder()\n",
    "y_train_encoded = label_encoder.fit_transform(y_train)\n",
    "y_test_encoded = label_encoder.transform(y_test)\n",
    "\n",
    "# One-hot encode y values for the neural network\n",
    "from keras.utils import to_categorical\n",
    "y_train_one_hot = to_categorical(y_train_encoded, num_classes=5)\n",
    "y_test_one_hot = to_categorical(y_test_encoded, num_classes=5)"
   ]
  },
  {
   "cell_type": "code",
   "execution_count": 8,
   "id": "1d667752",
   "metadata": {},
   "outputs": [
    {
     "data": {
      "text/plain": [
       "((8406, 224, 224, 3), (8406, 5), (2104, 224, 224, 3), (2104, 5))"
      ]
     },
     "execution_count": 8,
     "metadata": {},
     "output_type": "execute_result"
    }
   ],
   "source": [
    "x_train.shape, y_train_one_hot.shape, x_test.shape, y_test_one_hot.shape"
   ]
  },
  {
   "cell_type": "code",
   "execution_count": 9,
   "id": "38784b85",
   "metadata": {},
   "outputs": [],
   "source": [
    "base_model = NASNetMobile(input_shape=(224, 224,3), include_top=False, weights=\"imagenet\")"
   ]
  },
  {
   "cell_type": "code",
   "execution_count": 10,
   "id": "5aa2f729",
   "metadata": {},
   "outputs": [],
   "source": [
    "from tensorflow.keras import layers \n",
    "import tensorflow as tf\n",
    "for layer in base_model.layers:\n",
    "    layer.trainable = False"
   ]
  },
  {
   "cell_type": "code",
   "execution_count": 11,
   "id": "60105ec4",
   "metadata": {},
   "outputs": [],
   "source": [
    "base_model.trainable=False\n",
    "classifier=Sequential()\n",
    "classifier.add(base_model)\n",
    "classifier.add(Flatten())\n",
    "classifier.add(Dense(5,activation='softmax'))"
   ]
  },
  {
   "cell_type": "code",
   "execution_count": 12,
   "id": "ab2c73f0",
   "metadata": {},
   "outputs": [],
   "source": [
    "classifier.compile(optimizer='adam',\n",
    "              loss='categorical_crossentropy',\n",
    "              metrics=['accuracy'])"
   ]
  },
  {
   "cell_type": "code",
   "execution_count": 13,
   "id": "0670b7e8",
   "metadata": {
    "scrolled": true
   },
   "outputs": [
    {
     "name": "stdout",
     "output_type": "stream",
     "text": [
      "Epoch 1/50\n",
      "263/263 [==============================] - 204s 740ms/step - loss: 3.2199 - accuracy: 0.7916\n",
      "Epoch 2/50\n",
      "263/263 [==============================] - 203s 771ms/step - loss: 1.5631 - accuracy: 0.8873\n",
      "Epoch 3/50\n",
      "263/263 [==============================] - 203s 773ms/step - loss: 1.6494 - accuracy: 0.8977\n",
      "Epoch 4/50\n",
      "263/263 [==============================] - 204s 774ms/step - loss: 1.1284 - accuracy: 0.9226\n",
      "Epoch 5/50\n",
      "263/263 [==============================] - 198s 752ms/step - loss: 0.9861 - accuracy: 0.9321\n",
      "Epoch 6/50\n",
      "263/263 [==============================] - 208s 789ms/step - loss: 1.2147 - accuracy: 0.9343\n",
      "Epoch 7/50\n",
      "263/263 [==============================] - 201s 763ms/step - loss: 1.1608 - accuracy: 0.9360\n",
      "Epoch 8/50\n",
      "263/263 [==============================] - 208s 792ms/step - loss: 1.0001 - accuracy: 0.9454\n",
      "Epoch 9/50\n",
      "263/263 [==============================] - 205s 779ms/step - loss: 1.0808 - accuracy: 0.9441\n",
      "Epoch 10/50\n",
      "263/263 [==============================] - 206s 781ms/step - loss: 0.3855 - accuracy: 0.9711\n",
      "Epoch 11/50\n",
      "263/263 [==============================] - 202s 767ms/step - loss: 0.5283 - accuracy: 0.9645\n",
      "Epoch 12/50\n",
      "263/263 [==============================] - 200s 761ms/step - loss: 0.6026 - accuracy: 0.9626\n",
      "Epoch 13/50\n",
      "263/263 [==============================] - 201s 763ms/step - loss: 1.1623 - accuracy: 0.9479\n",
      "Epoch 14/50\n",
      "263/263 [==============================] - 203s 773ms/step - loss: 0.6473 - accuracy: 0.9665\n",
      "Epoch 15/50\n",
      "263/263 [==============================] - 206s 782ms/step - loss: 0.4562 - accuracy: 0.9713\n",
      "Epoch 16/50\n",
      "263/263 [==============================] - 207s 787ms/step - loss: 0.5912 - accuracy: 0.9703\n",
      "Epoch 17/50\n",
      "263/263 [==============================] - 203s 770ms/step - loss: 0.5175 - accuracy: 0.9716\n",
      "Epoch 18/50\n",
      "263/263 [==============================] - 204s 775ms/step - loss: 0.6443 - accuracy: 0.9695\n",
      "Epoch 19/50\n",
      "263/263 [==============================] - 206s 785ms/step - loss: 0.5641 - accuracy: 0.9714\n",
      "Epoch 20/50\n",
      "263/263 [==============================] - 204s 775ms/step - loss: 0.7810 - accuracy: 0.9660\n",
      "Epoch 21/50\n",
      "263/263 [==============================] - 204s 776ms/step - loss: 0.3385 - accuracy: 0.9822\n",
      "Epoch 22/50\n",
      "263/263 [==============================] - 205s 779ms/step - loss: 0.7512 - accuracy: 0.9688\n",
      "Epoch 23/50\n",
      "263/263 [==============================] - 199s 757ms/step - loss: 0.9195 - accuracy: 0.9644\n",
      "Epoch 24/50\n",
      "263/263 [==============================] - 198s 752ms/step - loss: 0.3548 - accuracy: 0.9813\n",
      "Epoch 25/50\n",
      "263/263 [==============================] - 198s 752ms/step - loss: 0.3069 - accuracy: 0.9806\n",
      "Epoch 26/50\n",
      "263/263 [==============================] - 207s 789ms/step - loss: 0.5279 - accuracy: 0.9794\n",
      "Epoch 27/50\n",
      "263/263 [==============================] - 201s 764ms/step - loss: 0.2985 - accuracy: 0.9842\n",
      "Epoch 28/50\n",
      "263/263 [==============================] - 199s 756ms/step - loss: 0.5609 - accuracy: 0.9762\n",
      "Epoch 29/50\n",
      "263/263 [==============================] - 200s 762ms/step - loss: 0.6363 - accuracy: 0.9722\n",
      "Epoch 30/50\n",
      "263/263 [==============================] - 201s 763ms/step - loss: 0.2353 - accuracy: 0.9844\n",
      "Epoch 31/50\n",
      "263/263 [==============================] - 198s 752ms/step - loss: 0.2842 - accuracy: 0.9849\n",
      "Epoch 32/50\n",
      "263/263 [==============================] - 200s 759ms/step - loss: 0.3670 - accuracy: 0.9830\n",
      "Epoch 33/50\n",
      "263/263 [==============================] - 198s 754ms/step - loss: 0.7521 - accuracy: 0.9743\n",
      "Epoch 34/50\n",
      "263/263 [==============================] - 198s 752ms/step - loss: 0.3129 - accuracy: 0.9851\n",
      "Epoch 35/50\n",
      "263/263 [==============================] - 197s 749ms/step - loss: 0.4307 - accuracy: 0.9794\n",
      "Epoch 36/50\n",
      "263/263 [==============================] - 197s 748ms/step - loss: 0.5030 - accuracy: 0.9789\n",
      "Epoch 37/50\n",
      "263/263 [==============================] - 199s 755ms/step - loss: 0.3595 - accuracy: 0.9837\n",
      "Epoch 38/50\n",
      "263/263 [==============================] - 197s 750ms/step - loss: 0.3242 - accuracy: 0.9847\n",
      "Epoch 39/50\n",
      "263/263 [==============================] - 200s 759ms/step - loss: 0.4297 - accuracy: 0.9836\n",
      "Epoch 40/50\n",
      "263/263 [==============================] - 200s 761ms/step - loss: 0.1630 - accuracy: 0.9905\n",
      "Epoch 41/50\n",
      "263/263 [==============================] - 198s 753ms/step - loss: 0.5176 - accuracy: 0.9812\n",
      "Epoch 42/50\n",
      "263/263 [==============================] - 197s 748ms/step - loss: 0.3658 - accuracy: 0.9835\n",
      "Epoch 43/50\n",
      "263/263 [==============================] - 196s 746ms/step - loss: 0.4482 - accuracy: 0.9814\n",
      "Epoch 44/50\n",
      "263/263 [==============================] - 198s 753ms/step - loss: 0.1745 - accuracy: 0.9916\n",
      "Epoch 45/50\n",
      "263/263 [==============================] - 202s 766ms/step - loss: 0.2475 - accuracy: 0.9892\n",
      "Epoch 46/50\n",
      "263/263 [==============================] - 198s 753ms/step - loss: 0.1350 - accuracy: 0.9941\n",
      "Epoch 47/50\n",
      "263/263 [==============================] - 199s 757ms/step - loss: 0.1944 - accuracy: 0.9902\n",
      "Epoch 48/50\n",
      "263/263 [==============================] - 198s 752ms/step - loss: 0.3231 - accuracy: 0.9883\n",
      "Epoch 49/50\n",
      "263/263 [==============================] - 197s 749ms/step - loss: 0.5043 - accuracy: 0.9812\n",
      "Epoch 50/50\n",
      "263/263 [==============================] - 199s 755ms/step - loss: 0.3179 - accuracy: 0.9881\n"
     ]
    }
   ],
   "source": [
    "history = classifier.fit(x_train, y_train_one_hot, epochs=50, batch_size=32)"
   ]
  },
  {
   "cell_type": "code",
   "execution_count": null,
   "id": "0553296a",
   "metadata": {},
   "outputs": [],
   "source": []
  },
  {
   "cell_type": "code",
   "execution_count": 15,
   "id": "3e083f04",
   "metadata": {},
   "outputs": [
    {
     "name": "stdout",
     "output_type": "stream",
     "text": [
      "66/66 [==============================] - 75s 1s/step\n"
     ]
    }
   ],
   "source": [
    "prediction_NN = classifier.predict(x_test)\n",
    "prediction_NN = np.argmax(prediction_NN, axis=-1)\n",
    "prediction_NN = label_encoder.inverse_transform(prediction_NN)"
   ]
  },
  {
   "cell_type": "code",
   "execution_count": 16,
   "id": "ea26ce52",
   "metadata": {},
   "outputs": [
    {
     "name": "stdout",
     "output_type": "stream",
     "text": [
      "[[1173    0    8    4    4]\n",
      " [  15  104    4   22   11]\n",
      " [   5    0  149    1    1]\n",
      " [  11    8    4  102    2]\n",
      " [   5    0    1    0  470]]\n"
     ]
    }
   ],
   "source": [
    "#Confusion Matrix - verify accuracy of each class\n",
    "from sklearn.metrics import confusion_matrix\n",
    "cm = confusion_matrix(test_labels, prediction_NN)\n",
    "print(cm)"
   ]
  },
  {
   "cell_type": "code",
   "execution_count": 17,
   "id": "e7eb8078",
   "metadata": {},
   "outputs": [
    {
     "name": "stdout",
     "output_type": "stream",
     "text": [
      "Accuracy =  0.9496197718631179\n"
     ]
    }
   ],
   "source": [
    "from sklearn import metrics\n",
    "print (\"Accuracy = \", metrics.accuracy_score(test_labels, prediction_NN))"
   ]
  },
  {
   "cell_type": "code",
   "execution_count": 18,
   "id": "4ce00190",
   "metadata": {},
   "outputs": [
    {
     "name": "stdout",
     "output_type": "stream",
     "text": [
      "              precision    recall  f1-score   support\n",
      "\n",
      "     Class 0      0.970     0.987     0.978      1189\n",
      "     Class 1      0.929     0.667     0.776       156\n",
      "     Class 2      0.898     0.955     0.925       156\n",
      "     Class 3      0.791     0.803     0.797       127\n",
      "     Class 4      0.963     0.987     0.975       476\n",
      "\n",
      "    accuracy                          0.950      2104\n",
      "   macro avg      0.910     0.880     0.890      2104\n",
      "weighted avg      0.949     0.950     0.948      2104\n",
      "\n"
     ]
    }
   ],
   "source": [
    "# Use scikit-learn to get statistics\n",
    "from sklearn.metrics import confusion_matrix\n",
    "from sklearn.metrics import classification_report\n",
    "\n",
    "# print(class_labels)\n",
    "target_names = ['Class 0', 'Class 1', 'Class 2', 'Class 3', 'Class 4']\n",
    "# print(confusion_matrix(test_labels, prediction_NN))\n",
    "print(classification_report(test_labels, prediction_NN, target_names=target_names,digits=3))"
   ]
  },
  {
   "cell_type": "code",
   "execution_count": 19,
   "id": "0f2a2c79",
   "metadata": {},
   "outputs": [],
   "source": [
    "import matplotlib.pyplot as plt\n",
    "from mlxtend.plotting import plot_confusion_matrix"
   ]
  },
  {
   "cell_type": "code",
   "execution_count": 20,
   "id": "62301aa5",
   "metadata": {},
   "outputs": [
    {
     "data": {
      "image/png": "[encoded data removed]",
      "text/plain": [
       "<Figure size 640x480 with 2 Axes>"
      ]
     },
     "metadata": {},
     "output_type": "display_data"
    }
   ],
   "source": [
    "class_dict = {0: 'Class 0',\n",
    "              1: 'Class 1',\n",
    "              2: 'Class 2',\n",
    "              3: 'Class 3',\n",
    "              4: 'Class 4'}\n",
    "\n",
    "multiclass = np.array([[1173,    0,    8,    4,    4],\n",
    "                       [15,  104,    4,   22,   11],\n",
    "                       [5,    0,  149,    1,    1],\n",
    "                       [11,    8,    4,  102,    2],\n",
    "                       [5,    0,    1,    0,  470]])\n",
    "\n",
    "fig, ax = plot_confusion_matrix(\n",
    "    conf_mat=multiclass,\n",
    "    class_names=class_dict.values(),show_normed=True,colorbar=True)"
   ]
  }
 ],
 "metadata": {
  "kernelspec": {
   "display_name": "Python 3 (ipykernel)",
   "language": "python",
   "name": "python3"
  },
  "language_info": {
   "codemirror_mode": {
    "name": "ipython",
    "version": 3
   },
   "file_extension": ".py",
   "mimetype": "text/x-python",
   "name": "python",
   "nbconvert_exporter": "python",
   "pygments_lexer": "ipython3",
   "version": "3.9.13"
  }
 },
 "nbformat": 4,
 "nbformat_minor": 5
}
