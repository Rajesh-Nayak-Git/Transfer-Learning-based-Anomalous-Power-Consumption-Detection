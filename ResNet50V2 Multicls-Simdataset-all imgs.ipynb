{
 "cells": [
  {
   "cell_type": "code",
   "execution_count": 1,
   "id": "9a82c685",
   "metadata": {},
   "outputs": [],
   "source": [
    "# Import the libraries\n",
    "import os\n",
    "import cv2\n",
    "from PIL import Image\n",
    "import tensorflow as tf\n",
    "from keras import backend as K\n",
    "from keras.models import load_model\n",
    "# from keras.preprocessing.image import img_to_array\n",
    "from tensorflow.keras.optimizers import Adam, RMSprop\n",
    "from tensorflow.keras.callbacks import ReduceLROnPlateau\n",
    "from tensorflow.keras.preprocessing.image import ImageDataGenerator\n",
    "from tensorflow.keras.applications import ResNet50V2\n",
    "import glob\n",
    "import pickle\n",
    "from sklearn import preprocessing"
   ]
  },
  {
   "cell_type": "code",
   "execution_count": 2,
   "id": "f46bce3a",
   "metadata": {},
   "outputs": [],
   "source": [
    "from keras.layers import Conv2D, MaxPooling2D\n",
    "from keras.layers import Dense, Activation, Dropout, Flatten, Conv2D, MaxPooling2D\n",
    "\n",
    "from keras.models import  Model,load_model, model_from_json, Sequential\n",
    "from keras.preprocessing import image\n",
    "from keras.applications.imagenet_utils import preprocess_input"
   ]
  },
  {
   "cell_type": "code",
   "execution_count": 3,
   "id": "2818c7fd",
   "metadata": {},
   "outputs": [],
   "source": [
    "SIZE  = 224\n",
    "batch_size = 32"
   ]
  },
  {
   "cell_type": "code",
   "execution_count": 5,
   "id": "392bb59c",
   "metadata": {},
   "outputs": [],
   "source": [
    "import numpy as np"
   ]
  },
  {
   "cell_type": "code",
   "execution_count": 6,
   "id": "1c2c587c",
   "metadata": {},
   "outputs": [],
   "source": [
    "train_images, train_labels = [], []\n",
    "for directory_path in glob.glob(\"Training/*\"):\n",
    "    tr_label = directory_path.split(\"\\\\\")[-1]\n",
    "    for img_path in glob.glob(os.path.join(directory_path, \"*.png\")):\n",
    "        img = cv2.imread(img_path, cv2.IMREAD_COLOR)\n",
    "        train_images.append(img)\n",
    "        train_labels.append(tr_label)"
   ]
  },
  {
   "cell_type": "code",
   "execution_count": 7,
   "id": "fc4ee093",
   "metadata": {},
   "outputs": [],
   "source": [
    "test_images, test_labels = [], []\n",
    "for directory_path in glob.glob(\"Testing/*\"):\n",
    "    ts_label = directory_path.split(\"\\\\\")[-1]\n",
    "    for img_path in glob.glob(os.path.join(directory_path, \"*.png\")):\n",
    "        img = cv2.imread(img_path, cv2.IMREAD_COLOR)\n",
    "        test_images.append(img)\n",
    "        test_labels.append(ts_label)"
   ]
  },
  {
   "cell_type": "code",
   "execution_count": 8,
   "id": "c5b02383",
   "metadata": {},
   "outputs": [],
   "source": [
    "# Convert images and labels to numpy arrays\n",
    "x_train = np.array(train_images)\n",
    "y_train = np.array(train_labels)\n",
    "x_test = np.array(test_images)\n",
    "y_test = np.array(test_labels)"
   ]
  },
  {
   "cell_type": "code",
   "execution_count": 9,
   "id": "e826053d",
   "metadata": {},
   "outputs": [
    {
     "data": {
      "text/plain": [
       "((8406, 224, 224, 3), (8406,), (2104, 224, 224, 3), (2104,))"
      ]
     },
     "execution_count": 9,
     "metadata": {},
     "output_type": "execute_result"
    }
   ],
   "source": [
    "x_train.shape, y_train.shape, x_test.shape, y_test.shape"
   ]
  },
  {
   "cell_type": "code",
   "execution_count": 10,
   "id": "53b774cf",
   "metadata": {},
   "outputs": [],
   "source": [
    "# Encode labels from text to integers\n",
    "label_encoder = preprocessing.LabelEncoder()\n",
    "y_train_encoded = label_encoder.fit_transform(y_train)\n",
    "y_test_encoded = label_encoder.transform(y_test)\n",
    "\n",
    "# One-hot encode y values for the neural network\n",
    "from keras.utils import to_categorical\n",
    "y_train_one_hot = to_categorical(y_train_encoded, num_classes=5)\n",
    "y_test_one_hot = to_categorical(y_test_encoded, num_classes=5)"
   ]
  },
  {
   "cell_type": "code",
   "execution_count": 11,
   "id": "ce2dbc3c",
   "metadata": {},
   "outputs": [
    {
     "data": {
      "text/plain": [
       "((8406, 224, 224, 3), (8406, 5), (2104, 224, 224, 3), (2104, 5))"
      ]
     },
     "execution_count": 11,
     "metadata": {},
     "output_type": "execute_result"
    }
   ],
   "source": [
    "x_train.shape, y_train_one_hot.shape, x_test.shape, y_test_one_hot.shape"
   ]
  },
  {
   "cell_type": "code",
   "execution_count": 12,
   "id": "62c9447f",
   "metadata": {},
   "outputs": [],
   "source": [
    "import keras"
   ]
  },
  {
   "cell_type": "code",
   "execution_count": 13,
   "id": "575be2e0",
   "metadata": {},
   "outputs": [],
   "source": [
    "base_model = ResNet50V2(input_shape=(224, 224,3), include_top=False, weights=\"imagenet\")"
   ]
  },
  {
   "cell_type": "code",
   "execution_count": 14,
   "id": "90ead0b2",
   "metadata": {},
   "outputs": [],
   "source": [
    "from tensorflow.keras import layers \n",
    "import tensorflow as tf\n",
    "for layer in base_model.layers:\n",
    "    layer.trainable = False"
   ]
  },
  {
   "cell_type": "code",
   "execution_count": 15,
   "id": "218e7443",
   "metadata": {},
   "outputs": [],
   "source": [
    "base_model.trainable=False\n",
    "classifier=Sequential()\n",
    "classifier.add(base_model)\n",
    "classifier.add(Flatten())\n",
    "classifier.add(Dense(5,activation='softmax'))"
   ]
  },
  {
   "cell_type": "code",
   "execution_count": 16,
   "id": "bbee1234",
   "metadata": {},
   "outputs": [],
   "source": [
    "# Compiling the model\n",
    "classifier.compile(loss = keras.losses.categorical_crossentropy, optimizer= 'adam', metrics=['accuracy'])"
   ]
  },
  {
   "cell_type": "code",
   "execution_count": 18,
   "id": "0ed9b05a",
   "metadata": {},
   "outputs": [
    {
     "name": "stdout",
     "output_type": "stream",
     "text": [
      "Epoch 1/50\n",
      "263/263 [==============================] - 277s 1s/step - loss: 145.3745 - accuracy: 0.8846\n",
      "Epoch 2/50\n",
      "263/263 [==============================] - 293s 1s/step - loss: 25.5082 - accuracy: 0.9550\n",
      "Epoch 3/50\n",
      "263/263 [==============================] - 295s 1s/step - loss: 19.5391 - accuracy: 0.9690\n",
      "Epoch 4/50\n",
      "263/263 [==============================] - 279s 1s/step - loss: 13.5765 - accuracy: 0.9778\n",
      "Epoch 5/50\n",
      "263/263 [==============================] - 278s 1s/step - loss: 13.2610 - accuracy: 0.9788\n",
      "Epoch 6/50\n",
      "263/263 [==============================] - 276s 1s/step - loss: 3.6294 - accuracy: 0.9912\n",
      "Epoch 7/50\n",
      "263/263 [==============================] - 278s 1s/step - loss: 23.8874 - accuracy: 0.9755\n",
      "Epoch 8/50\n",
      "263/263 [==============================] - 277s 1s/step - loss: 8.3809 - accuracy: 0.9861\n",
      "Epoch 9/50\n",
      "263/263 [==============================] - 276s 1s/step - loss: 8.8415 - accuracy: 0.9883\n",
      "Epoch 10/50\n",
      "263/263 [==============================] - 278s 1s/step - loss: 14.3474 - accuracy: 0.9828\n",
      "Epoch 11/50\n",
      "263/263 [==============================] - 278s 1s/step - loss: 9.3649 - accuracy: 0.9882\n",
      "Epoch 12/50\n",
      "263/263 [==============================] - 278s 1s/step - loss: 3.8557 - accuracy: 0.9941\n",
      "Epoch 13/50\n",
      "263/263 [==============================] - 280s 1s/step - loss: 12.9001 - accuracy: 0.9875\n",
      "Epoch 14/50\n",
      "263/263 [==============================] - 284s 1s/step - loss: 11.8266 - accuracy: 0.9883\n",
      "Epoch 15/50\n",
      "263/263 [==============================] - 279s 1s/step - loss: 6.9416 - accuracy: 0.9929\n",
      "Epoch 16/50\n",
      "263/263 [==============================] - 279s 1s/step - loss: 11.8798 - accuracy: 0.9885\n",
      "Epoch 17/50\n",
      "263/263 [==============================] - 278s 1s/step - loss: 17.5128 - accuracy: 0.9873\n",
      "Epoch 18/50\n",
      "263/263 [==============================] - 279s 1s/step - loss: 16.1920 - accuracy: 0.9892\n",
      "Epoch 19/50\n",
      "263/263 [==============================] - 279s 1s/step - loss: 3.4220 - accuracy: 0.9962\n",
      "Epoch 20/50\n",
      "263/263 [==============================] - 278s 1s/step - loss: 4.6690 - accuracy: 0.9944\n",
      "Epoch 21/50\n",
      "263/263 [==============================] - 278s 1s/step - loss: 27.7572 - accuracy: 0.9844\n",
      "Epoch 22/50\n",
      "263/263 [==============================] - 278s 1s/step - loss: 3.3679 - accuracy: 0.9962\n",
      "Epoch 23/50\n",
      "263/263 [==============================] - 289s 1s/step - loss: 7.0897 - accuracy: 0.9941\n",
      "Epoch 24/50\n",
      "263/263 [==============================] - 277s 1s/step - loss: 4.4298 - accuracy: 0.9963\n",
      "Epoch 25/50\n",
      "263/263 [==============================] - 277s 1s/step - loss: 13.2910 - accuracy: 0.9924\n",
      "Epoch 26/50\n",
      "263/263 [==============================] - 277s 1s/step - loss: 2.7576 - accuracy: 0.9975\n",
      "Epoch 27/50\n",
      "263/263 [==============================] - 276s 1s/step - loss: 11.0091 - accuracy: 0.9932\n",
      "Epoch 28/50\n",
      "263/263 [==============================] - 280s 1s/step - loss: 5.9885 - accuracy: 0.9955\n",
      "Epoch 29/50\n",
      "263/263 [==============================] - 295s 1s/step - loss: 8.1030 - accuracy: 0.9943\n",
      "Epoch 30/50\n",
      "263/263 [==============================] - 282s 1s/step - loss: 6.7186 - accuracy: 0.9955\n",
      "Epoch 31/50\n",
      "263/263 [==============================] - 294s 1s/step - loss: 6.1654 - accuracy: 0.9955\n",
      "Epoch 32/50\n",
      "263/263 [==============================] - 286s 1s/step - loss: 4.2648 - accuracy: 0.9975\n",
      "Epoch 33/50\n",
      "263/263 [==============================] - 285s 1s/step - loss: 9.1769 - accuracy: 0.9948\n",
      "Epoch 34/50\n",
      "263/263 [==============================] - 286s 1s/step - loss: 13.0255 - accuracy: 0.9930\n",
      "Epoch 35/50\n",
      "263/263 [==============================] - 298s 1s/step - loss: 3.2056 - accuracy: 0.9979\n",
      "Epoch 36/50\n",
      "263/263 [==============================] - 280s 1s/step - loss: 3.6874 - accuracy: 0.9980\n",
      "Epoch 37/50\n",
      "263/263 [==============================] - 278s 1s/step - loss: 3.2720 - accuracy: 0.9981\n",
      "Epoch 38/50\n",
      "263/263 [==============================] - 279s 1s/step - loss: 0.0000e+00 - accuracy: 1.0000\n",
      "Epoch 39/50\n",
      "263/263 [==============================] - 279s 1s/step - loss: 0.0000e+00 - accuracy: 1.0000\n",
      "Epoch 40/50\n",
      "263/263 [==============================] - 276s 1s/step - loss: 0.0000e+00 - accuracy: 1.0000\n",
      "Epoch 41/50\n",
      "263/263 [==============================] - 279s 1s/step - loss: 0.0000e+00 - accuracy: 1.0000\n",
      "Epoch 42/50\n",
      "263/263 [==============================] - 277s 1s/step - loss: 0.0000e+00 - accuracy: 1.0000\n",
      "Epoch 43/50\n",
      "263/263 [==============================] - 276s 1s/step - loss: 0.0000e+00 - accuracy: 1.0000\n",
      "Epoch 44/50\n",
      "263/263 [==============================] - 278s 1s/step - loss: 0.0000e+00 - accuracy: 1.0000\n",
      "Epoch 45/50\n",
      "263/263 [==============================] - 287s 1s/step - loss: 0.0000e+00 - accuracy: 1.0000\n",
      "Epoch 46/50\n",
      "263/263 [==============================] - 278s 1s/step - loss: 0.0000e+00 - accuracy: 1.0000\n",
      "Epoch 47/50\n",
      "263/263 [==============================] - 278s 1s/step - loss: 0.0000e+00 - accuracy: 1.0000\n",
      "Epoch 48/50\n",
      "263/263 [==============================] - 280s 1s/step - loss: 0.0000e+00 - accuracy: 1.0000\n",
      "Epoch 49/50\n",
      "263/263 [==============================] - 298s 1s/step - loss: 0.0000e+00 - accuracy: 1.0000\n",
      "Epoch 50/50\n",
      "263/263 [==============================] - 294s 1s/step - loss: 0.0000e+00 - accuracy: 1.0000\n"
     ]
    }
   ],
   "source": [
    "history = classifier.fit(x_train, y_train_one_hot, epochs=50, batch_size=32)"
   ]
  },
  {
   "cell_type": "code",
   "execution_count": 19,
   "id": "33569236",
   "metadata": {},
   "outputs": [
    {
     "name": "stdout",
     "output_type": "stream",
     "text": [
      "66/66 [==============================] - 71s 1s/step\n"
     ]
    }
   ],
   "source": [
    "prediction_NN = classifier.predict(x_test)\n",
    "prediction_NN = np.argmax(prediction_NN, axis=-1)\n",
    "prediction_NN = label_encoder.inverse_transform(prediction_NN)"
   ]
  },
  {
   "cell_type": "code",
   "execution_count": 20,
   "id": "7035574d",
   "metadata": {},
   "outputs": [
    {
     "name": "stdout",
     "output_type": "stream",
     "text": [
      "[[1189    0    0    0    0]\n",
      " [   2  153    0    1    0]\n",
      " [   0    0  156    0    0]\n",
      " [   1    2    0  124    0]\n",
      " [   0    0    0    0  476]]\n"
     ]
    }
   ],
   "source": [
    "#Confusion Matrix - verify accuracy of each class\n",
    "from sklearn.metrics import confusion_matrix\n",
    "cm = confusion_matrix(test_labels, prediction_NN)\n",
    "print(cm)"
   ]
  },
  {
   "cell_type": "code",
   "execution_count": 21,
   "id": "c68a7bea",
   "metadata": {},
   "outputs": [
    {
     "name": "stdout",
     "output_type": "stream",
     "text": [
      "Accuracy =  0.997148288973384\n"
     ]
    }
   ],
   "source": [
    "from sklearn import metrics\n",
    "print (\"Accuracy = \", metrics.accuracy_score(test_labels, prediction_NN))"
   ]
  },
  {
   "cell_type": "code",
   "execution_count": 22,
   "id": "0148c824",
   "metadata": {},
   "outputs": [
    {
     "name": "stdout",
     "output_type": "stream",
     "text": [
      "[[1189    0    0    0    0]\n",
      " [   2  153    0    1    0]\n",
      " [   0    0  156    0    0]\n",
      " [   1    2    0  124    0]\n",
      " [   0    0    0    0  476]]\n",
      "              precision    recall  f1-score   support\n",
      "\n",
      "     Class 0      0.997     1.000     0.999      1189\n",
      "     Class 1      0.987     0.981     0.984       156\n",
      "     Class 2      1.000     1.000     1.000       156\n",
      "     Class 3      0.992     0.976     0.984       127\n",
      "     Class 4      1.000     1.000     1.000       476\n",
      "\n",
      "    accuracy                          0.997      2104\n",
      "   macro avg      0.995     0.991     0.993      2104\n",
      "weighted avg      0.997     0.997     0.997      2104\n",
      "\n"
     ]
    }
   ],
   "source": [
    "# Use scikit-learn to get statistics\n",
    "from sklearn.metrics import confusion_matrix\n",
    "from sklearn.metrics import classification_report\n",
    "\n",
    "# print(class_labels)\n",
    "target_names = ['Class 0', 'Class 1', 'Class 2', 'Class 3', 'Class 4']\n",
    "print(confusion_matrix(test_labels, prediction_NN))\n",
    "print(classification_report(test_labels, prediction_NN, target_names=target_names,digits=3))"
   ]
  },
  {
   "cell_type": "code",
   "execution_count": 24,
   "id": "2a676255",
   "metadata": {},
   "outputs": [],
   "source": [
    "import matplotlib.pyplot as plt\n",
    "from mlxtend.plotting import plot_confusion_matrix"
   ]
  },
  {
   "cell_type": "code",
   "execution_count": 25,
   "id": "2731c092",
   "metadata": {},
   "outputs": [
    {
     "data": {
      "image/png": "[encoded data removed]",
      "text/plain": [
       "<Figure size 640x480 with 2 Axes>"
      ]
     },
     "metadata": {},
     "output_type": "display_data"
    }
   ],
   "source": [
    "class_dict = {0: 'Class 0',\n",
    "              1: 'Class 1',\n",
    "              2: 'Class 2',\n",
    "              3: 'Class 3',\n",
    "              4: 'Class 4'}\n",
    "\n",
    "multiclass = np.array([[1189,    0,    0,    0,    0],\n",
    "                       [2,  153,    0,    1,    0],\n",
    "                       [0,    0,  156,    0,    0],\n",
    "                       [1,    2,    0,  124,    0],\n",
    "                       [0,    0,    0,    0,  476]])\n",
    "\n",
    "fig, ax = plot_confusion_matrix(\n",
    "    conf_mat=multiclass,\n",
    "    class_names=class_dict.values(),show_normed=True,colorbar=True)"
   ]
  },
  {
   "cell_type": "code",
   "execution_count": null,
   "id": "d5b5a9fc",
   "metadata": {},
   "outputs": [],
   "source": []
  }
 ],
 "metadata": {
  "kernelspec": {
   "display_name": "Python 3 (ipykernel)",
   "language": "python",
   "name": "python3"
  },
  "language_info": {
   "codemirror_mode": {
    "name": "ipython",
    "version": 3
   },
   "file_extension": ".py",
   "mimetype": "text/x-python",
   "name": "python",
   "nbconvert_exporter": "python",
   "pygments_lexer": "ipython3",
   "version": "3.9.13"
  }
 },
 "nbformat": 4,
 "nbformat_minor": 5
}
