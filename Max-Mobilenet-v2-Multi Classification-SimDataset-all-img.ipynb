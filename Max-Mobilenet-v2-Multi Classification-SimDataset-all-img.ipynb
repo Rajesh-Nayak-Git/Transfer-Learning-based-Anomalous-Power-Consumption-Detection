{
 "cells": [
  {
   "cell_type": "code",
   "execution_count": 1,
   "id": "72eac450",
   "metadata": {},
   "outputs": [],
   "source": [
    "import numpy as np \n",
    "import matplotlib.pyplot as plt\n",
    "import glob\n",
    "import cv2\n",
    "from tensorflow.keras.models import Model, Sequential\n",
    "from tensorflow.keras.layers import Dense, Flatten, Conv2D, MaxPooling2D\n",
    "# from tensorflow.keras.layers.normalization import BatchNormalization\n",
    "import os\n",
    "import seaborn as sns\n",
    "from keras.applications import MobileNetV2\n",
    "from tensorflow.python.keras.layers import Dense, Flatten, GlobalAveragePooling2D\n",
    "from sklearn import preprocessing"
   ]
  },
  {
   "cell_type": "code",
   "execution_count": 2,
   "id": "aaa3a157",
   "metadata": {},
   "outputs": [],
   "source": [
    "SIZE=224"
   ]
  },
  {
   "cell_type": "code",
   "execution_count": 3,
   "id": "99147fbd",
   "metadata": {},
   "outputs": [],
   "source": [
    "train_images, train_labels = [], []\n",
    "for directory_path in glob.glob(\"Training/*\"):\n",
    "    tr_label = directory_path.split(\"\\\\\")[-1]\n",
    "    for img_path in glob.glob(os.path.join(directory_path, \"*.png\")):\n",
    "        img = cv2.imread(img_path, cv2.IMREAD_COLOR)\n",
    "        train_images.append(img)\n",
    "        train_labels.append(tr_label)"
   ]
  },
  {
   "cell_type": "code",
   "execution_count": 4,
   "id": "97d11bd5",
   "metadata": {},
   "outputs": [],
   "source": [
    "test_images, test_labels = [], []\n",
    "for directory_path in glob.glob(\"Testing/*\"):\n",
    "    ts_label = directory_path.split(\"\\\\\")[-1]\n",
    "    for img_path in glob.glob(os.path.join(directory_path, \"*.png\")):\n",
    "        img = cv2.imread(img_path, cv2.IMREAD_COLOR)\n",
    "        test_images.append(img)\n",
    "        test_labels.append(ts_label)"
   ]
  },
  {
   "cell_type": "code",
   "execution_count": 5,
   "id": "19db9f0c",
   "metadata": {},
   "outputs": [],
   "source": [
    "# Convert images and labels to numpy arrays\n",
    "x_train = np.array(train_images)\n",
    "y_train = np.array(train_labels)\n",
    "x_test = np.array(test_images)\n",
    "y_test = np.array(test_labels)"
   ]
  },
  {
   "cell_type": "code",
   "execution_count": 6,
   "id": "5b0c7b20",
   "metadata": {},
   "outputs": [
    {
     "data": {
      "text/plain": [
       "((8406, 224, 224, 3), (8406,), (2104, 224, 224, 3), (2104,))"
      ]
     },
     "execution_count": 6,
     "metadata": {},
     "output_type": "execute_result"
    }
   ],
   "source": [
    "x_train.shape, y_train.shape, x_test.shape, y_test.shape"
   ]
  },
  {
   "cell_type": "code",
   "execution_count": 7,
   "id": "0c097bb6",
   "metadata": {},
   "outputs": [],
   "source": [
    "# Encode labels from text to integers\n",
    "label_encoder = preprocessing.LabelEncoder()\n",
    "y_train_encoded = label_encoder.fit_transform(y_train)\n",
    "y_test_encoded = label_encoder.transform(y_test)\n",
    "\n",
    "# One-hot encode y values for the neural network\n",
    "from keras.utils import to_categorical\n",
    "y_train_one_hot = to_categorical(y_train_encoded, num_classes=5)\n",
    "y_test_one_hot = to_categorical(y_test_encoded, num_classes=5)"
   ]
  },
  {
   "cell_type": "code",
   "execution_count": 8,
   "id": "ee4e9b74",
   "metadata": {},
   "outputs": [
    {
     "data": {
      "text/plain": [
       "((8406, 224, 224, 3), (8406, 5), (2104, 224, 224, 3), (2104, 5))"
      ]
     },
     "execution_count": 8,
     "metadata": {},
     "output_type": "execute_result"
    }
   ],
   "source": [
    "x_train.shape, y_train_one_hot.shape, x_test.shape, y_test_one_hot.shape"
   ]
  },
  {
   "cell_type": "code",
   "execution_count": 9,
   "id": "38784b85",
   "metadata": {},
   "outputs": [],
   "source": [
    "base_model = MobileNetV2(input_shape=(224, 224,3), include_top=False, weights=\"imagenet\")"
   ]
  },
  {
   "cell_type": "code",
   "execution_count": 10,
   "id": "5aa2f729",
   "metadata": {},
   "outputs": [],
   "source": [
    "from tensorflow.keras import layers \n",
    "import tensorflow as tf\n",
    "for layer in base_model.layers:\n",
    "    layer.trainable = False"
   ]
  },
  {
   "cell_type": "code",
   "execution_count": 11,
   "id": "60105ec4",
   "metadata": {},
   "outputs": [],
   "source": [
    "base_model.trainable=False\n",
    "model=Sequential()\n",
    "model.add(base_model)\n",
    "model.add(Flatten())\n",
    "model.add(Dense(5,activation='softmax'))"
   ]
  },
  {
   "cell_type": "code",
   "execution_count": 12,
   "id": "ab2c73f0",
   "metadata": {},
   "outputs": [],
   "source": [
    "model.compile(optimizer='adam',\n",
    "              loss='categorical_crossentropy',\n",
    "              metrics=['accuracy'])"
   ]
  },
  {
   "cell_type": "code",
   "execution_count": 13,
   "id": "0670b7e8",
   "metadata": {
    "scrolled": true
   },
   "outputs": [
    {
     "name": "stdout",
     "output_type": "stream",
     "text": [
      "Epoch 1/50\n",
      "263/263 [==============================] - 121s 452ms/step - loss: 0.8807 - accuracy: 0.9220\n",
      "Epoch 2/50\n",
      "263/263 [==============================] - 121s 461ms/step - loss: 0.1823 - accuracy: 0.9736\n",
      "Epoch 3/50\n",
      "263/263 [==============================] - 119s 454ms/step - loss: 0.1105 - accuracy: 0.9828\n",
      "Epoch 4/50\n",
      "263/263 [==============================] - 120s 457ms/step - loss: 0.0726 - accuracy: 0.9876\n",
      "Epoch 5/50\n",
      "263/263 [==============================] - 122s 462ms/step - loss: 0.0548 - accuracy: 0.9905\n",
      "Epoch 6/50\n",
      "263/263 [==============================] - 119s 452ms/step - loss: 0.0855 - accuracy: 0.9899\n",
      "Epoch 7/50\n",
      "263/263 [==============================] - 119s 452ms/step - loss: 0.0758 - accuracy: 0.9898\n",
      "Epoch 8/50\n",
      "263/263 [==============================] - 120s 457ms/step - loss: 0.1166 - accuracy: 0.9889\n",
      "Epoch 9/50\n",
      "263/263 [==============================] - 120s 457ms/step - loss: 0.1054 - accuracy: 0.9893\n",
      "Epoch 10/50\n",
      "263/263 [==============================] - 120s 455ms/step - loss: 0.0896 - accuracy: 0.9905\n",
      "Epoch 11/50\n",
      "263/263 [==============================] - 121s 458ms/step - loss: 0.0680 - accuracy: 0.9942\n",
      "Epoch 12/50\n",
      "263/263 [==============================] - 121s 458ms/step - loss: 0.0369 - accuracy: 0.9971\n",
      "Epoch 13/50\n",
      "263/263 [==============================] - 119s 453ms/step - loss: 0.0085 - accuracy: 0.9990\n",
      "Epoch 14/50\n",
      "263/263 [==============================] - 120s 455ms/step - loss: 0.0213 - accuracy: 0.9969\n",
      "Epoch 15/50\n",
      "263/263 [==============================] - 121s 459ms/step - loss: 0.2095 - accuracy: 0.9872\n",
      "Epoch 16/50\n",
      "263/263 [==============================] - 124s 473ms/step - loss: 0.0817 - accuracy: 0.9939\n",
      "Epoch 17/50\n",
      "263/263 [==============================] - 124s 473ms/step - loss: 0.0707 - accuracy: 0.9958\n",
      "Epoch 18/50\n",
      "263/263 [==============================] - 119s 454ms/step - loss: 0.0248 - accuracy: 0.9973\n",
      "Epoch 19/50\n",
      "263/263 [==============================] - 120s 456ms/step - loss: 0.0373 - accuracy: 0.9970\n",
      "Epoch 20/50\n",
      "263/263 [==============================] - 120s 457ms/step - loss: 0.0650 - accuracy: 0.9952\n",
      "Epoch 21/50\n",
      "263/263 [==============================] - 119s 454ms/step - loss: 0.1400 - accuracy: 0.9908\n",
      "Epoch 22/50\n",
      "263/263 [==============================] - 119s 452ms/step - loss: 0.0618 - accuracy: 0.9950\n",
      "Epoch 23/50\n",
      "263/263 [==============================] - 119s 453ms/step - loss: 0.0326 - accuracy: 0.9980\n",
      "Epoch 24/50\n",
      "263/263 [==============================] - 119s 453ms/step - loss: 0.0394 - accuracy: 0.9974\n",
      "Epoch 25/50\n",
      "263/263 [==============================] - 119s 454ms/step - loss: 0.0500 - accuracy: 0.9964\n",
      "Epoch 26/50\n",
      "263/263 [==============================] - 120s 456ms/step - loss: 0.2039 - accuracy: 0.9919\n",
      "Epoch 27/50\n",
      "263/263 [==============================] - 120s 455ms/step - loss: 0.0375 - accuracy: 0.9976\n",
      "Epoch 28/50\n",
      "263/263 [==============================] - 120s 457ms/step - loss: 3.6607e-05 - accuracy: 1.0000\n",
      "Epoch 29/50\n",
      "263/263 [==============================] - 120s 457ms/step - loss: 3.1594e-08 - accuracy: 1.0000\n",
      "Epoch 30/50\n",
      "263/263 [==============================] - 120s 455ms/step - loss: 2.9722e-08 - accuracy: 1.0000\n",
      "Epoch 31/50\n",
      "263/263 [==============================] - 121s 458ms/step - loss: 2.7794e-08 - accuracy: 1.0000\n",
      "Epoch 32/50\n",
      "263/263 [==============================] - 119s 454ms/step - loss: 2.5937e-08 - accuracy: 1.0000\n",
      "Epoch 33/50\n",
      "263/263 [==============================] - 120s 456ms/step - loss: 2.4192e-08 - accuracy: 1.0000\n",
      "Epoch 34/50\n",
      "263/263 [==============================] - 122s 462ms/step - loss: 2.2505e-08 - accuracy: 1.0000\n",
      "Epoch 35/50\n",
      "263/263 [==============================] - 121s 459ms/step - loss: 2.1016e-08 - accuracy: 1.0000\n",
      "Epoch 36/50\n",
      "263/263 [==============================] - 120s 456ms/step - loss: 1.9442e-08 - accuracy: 1.0000\n",
      "Epoch 37/50\n",
      "263/263 [==============================] - 120s 455ms/step - loss: 1.8038e-08 - accuracy: 1.0000\n",
      "Epoch 38/50\n",
      "263/263 [==============================] - 119s 454ms/step - loss: 1.6748e-08 - accuracy: 1.0000\n",
      "Epoch 39/50\n",
      "263/263 [==============================] - 120s 457ms/step - loss: 1.5443e-08 - accuracy: 1.0000\n",
      "Epoch 40/50\n",
      "263/263 [==============================] - 120s 454ms/step - loss: 1.4209e-08 - accuracy: 1.0000\n",
      "Epoch 41/50\n",
      "263/263 [==============================] - 120s 455ms/step - loss: 1.3061e-08 - accuracy: 1.0000\n",
      "Epoch 42/50\n",
      "263/263 [==============================] - 120s 457ms/step - loss: 1.1969e-08 - accuracy: 1.0000\n",
      "Epoch 43/50\n",
      "263/263 [==============================] - 120s 455ms/step - loss: 1.0905e-08 - accuracy: 1.0000\n",
      "Epoch 44/50\n",
      "263/263 [==============================] - 120s 455ms/step - loss: 9.9552e-09 - accuracy: 1.0000\n",
      "Epoch 45/50\n",
      "263/263 [==============================] - 119s 454ms/step - loss: 9.0618e-09 - accuracy: 1.0000\n",
      "Epoch 46/50\n",
      "263/263 [==============================] - 120s 457ms/step - loss: 8.2393e-09 - accuracy: 1.0000\n",
      "Epoch 47/50\n",
      "263/263 [==============================] - 122s 465ms/step - loss: 7.4877e-09 - accuracy: 1.0000\n",
      "Epoch 48/50\n",
      "263/263 [==============================] - 121s 461ms/step - loss: 6.7645e-09 - accuracy: 1.0000\n",
      "Epoch 49/50\n",
      "263/263 [==============================] - 122s 463ms/step - loss: 6.1405e-09 - accuracy: 1.0000\n",
      "Epoch 50/50\n",
      "263/263 [==============================] - 121s 460ms/step - loss: 5.5307e-09 - accuracy: 1.0000\n"
     ]
    }
   ],
   "source": [
    "history = model.fit(x_train, y_train_one_hot, epochs=50, batch_size=32)"
   ]
  },
  {
   "cell_type": "code",
   "execution_count": 14,
   "id": "3e083f04",
   "metadata": {},
   "outputs": [
    {
     "name": "stdout",
     "output_type": "stream",
     "text": [
      "66/66 [==============================] - 31s 456ms/step\n"
     ]
    }
   ],
   "source": [
    "prediction_NN = model.predict(x_test)\n",
    "prediction_NN = np.argmax(prediction_NN, axis=-1)\n",
    "prediction_NN = label_encoder.inverse_transform(prediction_NN)"
   ]
  },
  {
   "cell_type": "code",
   "execution_count": 15,
   "id": "ea26ce52",
   "metadata": {},
   "outputs": [
    {
     "name": "stdout",
     "output_type": "stream",
     "text": [
      "[[1189    0    0    0    0]\n",
      " [   2  148    1    4    1]\n",
      " [   1    0  153    1    1]\n",
      " [   1   10    0  116    0]\n",
      " [   0    0    0    0  476]]\n"
     ]
    }
   ],
   "source": [
    "#Confusion Matrix - verify accuracy of each class\n",
    "from sklearn.metrics import confusion_matrix\n",
    "cm = confusion_matrix(test_labels, prediction_NN)\n",
    "print(cm)"
   ]
  },
  {
   "cell_type": "code",
   "execution_count": 16,
   "id": "e7eb8078",
   "metadata": {},
   "outputs": [
    {
     "name": "stdout",
     "output_type": "stream",
     "text": [
      "Accuracy =  0.9895437262357415\n"
     ]
    }
   ],
   "source": [
    "from sklearn import metrics\n",
    "print (\"Accuracy = \", metrics.accuracy_score(test_labels, prediction_NN))"
   ]
  },
  {
   "cell_type": "code",
   "execution_count": 17,
   "id": "4ce00190",
   "metadata": {},
   "outputs": [
    {
     "name": "stdout",
     "output_type": "stream",
     "text": [
      "              precision    recall  f1-score   support\n",
      "\n",
      "     Class 0      0.997     1.000     0.998      1189\n",
      "     Class 1      0.937     0.949     0.943       156\n",
      "     Class 2      0.994     0.981     0.987       156\n",
      "     Class 3      0.959     0.913     0.935       127\n",
      "     Class 4      0.996     1.000     0.998       476\n",
      "\n",
      "    accuracy                          0.990      2104\n",
      "   macro avg      0.976     0.969     0.972      2104\n",
      "weighted avg      0.989     0.990     0.989      2104\n",
      "\n"
     ]
    }
   ],
   "source": [
    "# Use scikit-learn to get statistics\n",
    "from sklearn.metrics import confusion_matrix\n",
    "from sklearn.metrics import classification_report\n",
    "\n",
    "# print(class_labels)\n",
    "target_names = ['Class 0', 'Class 1', 'Class 2', 'Class 3', 'Class 4']\n",
    "# print(confusion_matrix(test_labels, prediction_NN))\n",
    "print(classification_report(test_labels, prediction_NN, target_names=target_names,digits=3))"
   ]
  },
  {
   "cell_type": "code",
   "execution_count": 18,
   "id": "22ea43d6",
   "metadata": {},
   "outputs": [],
   "source": [
    "import matplotlib.pyplot as plt\n",
    "from mlxtend.plotting import plot_confusion_matrix"
   ]
  },
  {
   "cell_type": "code",
   "execution_count": 21,
   "id": "0ce2f7fa",
   "metadata": {},
   "outputs": [
    {
     "data": {
      "image/png": "[encoded data removed]",
      "text/plain": [
       "<Figure size 640x480 with 2 Axes>"
      ]
     },
     "metadata": {},
     "output_type": "display_data"
    }
   ],
   "source": [
    "class_dict = {0: 'Class 0',\n",
    "              1: 'Class 1',\n",
    "              2: 'Class 2',\n",
    "              3: 'Class 3',\n",
    "              4: 'Class 4'}\n",
    "\n",
    "multiclass = np.array([[1189,    0,    0,    0,    0],\n",
    "                       [2,  148,    1,    4,    1],\n",
    "                       [1,    0,  153,    1,    1],\n",
    "                       [1,   10,    0,  116,    0],\n",
    "                       [0,    0,    0,    0,  476]])\n",
    "\n",
    "fig, ax = plot_confusion_matrix(\n",
    "    conf_mat=multiclass,\n",
    "    class_names=class_dict.values(),show_normed=True,colorbar=True)"
   ]
  }
 ],
 "metadata": {
  "kernelspec": {
   "display_name": "Python 3 (ipykernel)",
   "language": "python",
   "name": "python3"
  },
  "language_info": {
   "codemirror_mode": {
    "name": "ipython",
    "version": 3
   },
   "file_extension": ".py",
   "mimetype": "text/x-python",
   "name": "python",
   "nbconvert_exporter": "python",
   "pygments_lexer": "ipython3",
   "version": "3.9.13"
  }
 },
 "nbformat": 4,
 "nbformat_minor": 5
}
