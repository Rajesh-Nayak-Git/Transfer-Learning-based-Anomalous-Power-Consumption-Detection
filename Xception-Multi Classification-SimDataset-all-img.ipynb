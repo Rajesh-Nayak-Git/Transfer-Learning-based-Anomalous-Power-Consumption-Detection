{
 "cells": [
  {
   "cell_type": "code",
   "execution_count": 1,
   "id": "72eac450",
   "metadata": {},
   "outputs": [],
   "source": [
    "import numpy as np \n",
    "import matplotlib.pyplot as plt\n",
    "import glob\n",
    "import cv2\n",
    "from tensorflow.keras.models import Model, Sequential\n",
    "from tensorflow.keras.layers import Dense, Flatten, Conv2D, MaxPooling2D\n",
    "# from tensorflow.keras.layers.normalization import BatchNormalization\n",
    "import os\n",
    "import seaborn as sns\n",
    "from keras.applications import Xception\n",
    "from tensorflow.python.keras.layers import Dense, Flatten, GlobalAveragePooling2D\n",
    "from sklearn import preprocessing"
   ]
  },
  {
   "cell_type": "code",
   "execution_count": 2,
   "id": "aaa3a157",
   "metadata": {},
   "outputs": [],
   "source": [
    "SIZE=224"
   ]
  },
  {
   "cell_type": "code",
   "execution_count": 3,
   "id": "99147fbd",
   "metadata": {},
   "outputs": [],
   "source": [
    "train_images, train_labels = [], []\n",
    "for directory_path in glob.glob(\"Training/*\"):\n",
    "    tr_label = directory_path.split(\"\\\\\")[-1]\n",
    "    for img_path in glob.glob(os.path.join(directory_path, \"*.png\")):\n",
    "        img = cv2.imread(img_path, cv2.IMREAD_COLOR)\n",
    "        train_images.append(img)\n",
    "        train_labels.append(tr_label)"
   ]
  },
  {
   "cell_type": "code",
   "execution_count": 4,
   "id": "60734ae9",
   "metadata": {},
   "outputs": [],
   "source": [
    "test_images, test_labels = [], []\n",
    "for directory_path in glob.glob(\"Testing/*\"):\n",
    "    ts_label = directory_path.split(\"\\\\\")[-1]\n",
    "    for img_path in glob.glob(os.path.join(directory_path, \"*.png\")):\n",
    "        img = cv2.imread(img_path, cv2.IMREAD_COLOR)\n",
    "        test_images.append(img)\n",
    "        test_labels.append(ts_label)"
   ]
  },
  {
   "cell_type": "code",
   "execution_count": 5,
   "id": "5b0c7b20",
   "metadata": {},
   "outputs": [],
   "source": [
    "# Convert images and labels to numpy arrays\n",
    "x_train = np.array(train_images)\n",
    "y_train = np.array(train_labels)\n",
    "x_test = np.array(test_images)\n",
    "y_test = np.array(test_labels)"
   ]
  },
  {
   "cell_type": "code",
   "execution_count": 6,
   "id": "ee4e9b74",
   "metadata": {},
   "outputs": [
    {
     "data": {
      "text/plain": [
       "((8406, 224, 224, 3), (8406,), (2104, 224, 224, 3), (2104,))"
      ]
     },
     "execution_count": 6,
     "metadata": {},
     "output_type": "execute_result"
    }
   ],
   "source": [
    "x_train.shape, y_train.shape, x_test.shape, y_test.shape"
   ]
  },
  {
   "cell_type": "code",
   "execution_count": 7,
   "id": "116f41f3",
   "metadata": {},
   "outputs": [],
   "source": [
    "# Encode labels from text to integers\n",
    "label_encoder = preprocessing.LabelEncoder()\n",
    "y_train_encoded = label_encoder.fit_transform(y_train)\n",
    "y_test_encoded = label_encoder.transform(y_test)\n",
    "\n",
    "# One-hot encode y values for the neural network\n",
    "from keras.utils import to_categorical\n",
    "y_train_one_hot = to_categorical(y_train_encoded, num_classes=5)\n",
    "y_test_one_hot = to_categorical(y_test_encoded, num_classes=5)"
   ]
  },
  {
   "cell_type": "code",
   "execution_count": 8,
   "id": "1d667752",
   "metadata": {},
   "outputs": [
    {
     "data": {
      "text/plain": [
       "((8406, 224, 224, 3), (8406, 5), (2104, 224, 224, 3), (2104, 5))"
      ]
     },
     "execution_count": 8,
     "metadata": {},
     "output_type": "execute_result"
    }
   ],
   "source": [
    "x_train.shape, y_train_one_hot.shape, x_test.shape, y_test_one_hot.shape"
   ]
  },
  {
   "cell_type": "code",
   "execution_count": 9,
   "id": "38784b85",
   "metadata": {},
   "outputs": [],
   "source": [
    "base_model = Xception(input_shape=(224, 224,3), include_top=False, weights=\"imagenet\")"
   ]
  },
  {
   "cell_type": "code",
   "execution_count": 10,
   "id": "5aa2f729",
   "metadata": {},
   "outputs": [],
   "source": [
    "from tensorflow.keras import layers \n",
    "import tensorflow as tf\n",
    "for layer in base_model.layers:\n",
    "    layer.trainable = False"
   ]
  },
  {
   "cell_type": "code",
   "execution_count": 11,
   "id": "60105ec4",
   "metadata": {},
   "outputs": [],
   "source": [
    "base_model.trainable=False\n",
    "classifier=Sequential()\n",
    "classifier.add(base_model)\n",
    "classifier.add(Flatten())\n",
    "classifier.add(Dense(5,activation='softmax'))"
   ]
  },
  {
   "cell_type": "code",
   "execution_count": 12,
   "id": "ab2c73f0",
   "metadata": {},
   "outputs": [],
   "source": [
    "classifier.compile(optimizer='adam',\n",
    "              loss='categorical_crossentropy',\n",
    "              metrics=['accuracy'])"
   ]
  },
  {
   "cell_type": "code",
   "execution_count": 14,
   "id": "0670b7e8",
   "metadata": {
    "scrolled": true
   },
   "outputs": [
    {
     "name": "stdout",
     "output_type": "stream",
     "text": [
      "Epoch 1/50\n",
      "263/263 [==============================] - 349s 1s/step - loss: 11.7807 - accuracy: 0.8851\n",
      "Epoch 2/50\n",
      "263/263 [==============================] - 345s 1s/step - loss: 3.9865 - accuracy: 0.9481\n",
      "Epoch 3/50\n",
      "263/263 [==============================] - 339s 1s/step - loss: 2.5155 - accuracy: 0.9669\n",
      "Epoch 4/50\n",
      "263/263 [==============================] - 337s 1s/step - loss: 2.4645 - accuracy: 0.9728\n",
      "Epoch 5/50\n",
      "263/263 [==============================] - 338s 1s/step - loss: 1.7512 - accuracy: 0.9768\n",
      "Epoch 6/50\n",
      "263/263 [==============================] - 340s 1s/step - loss: 1.4376 - accuracy: 0.9820\n",
      "Epoch 7/50\n",
      "263/263 [==============================] - 332s 1s/step - loss: 3.9231 - accuracy: 0.9687\n",
      "Epoch 8/50\n",
      "263/263 [==============================] - 322s 1s/step - loss: 1.2996 - accuracy: 0.9868\n",
      "Epoch 9/50\n",
      "263/263 [==============================] - 327s 1s/step - loss: 2.7700 - accuracy: 0.9798\n",
      "Epoch 10/50\n",
      "263/263 [==============================] - 324s 1s/step - loss: 1.5033 - accuracy: 0.9850\n",
      "Epoch 11/50\n",
      "263/263 [==============================] - 325s 1s/step - loss: 1.5552 - accuracy: 0.9850\n",
      "Epoch 12/50\n",
      "263/263 [==============================] - 321s 1s/step - loss: 2.4326 - accuracy: 0.9873\n",
      "Epoch 13/50\n",
      "263/263 [==============================] - 322s 1s/step - loss: 0.6706 - accuracy: 0.9914\n",
      "Epoch 14/50\n",
      "263/263 [==============================] - 321s 1s/step - loss: 1.2762 - accuracy: 0.9873\n",
      "Epoch 15/50\n",
      "263/263 [==============================] - 321s 1s/step - loss: 0.6734 - accuracy: 0.9923\n",
      "Epoch 16/50\n",
      "263/263 [==============================] - 321s 1s/step - loss: 0.8451 - accuracy: 0.9916\n",
      "Epoch 17/50\n",
      "263/263 [==============================] - 322s 1s/step - loss: 1.1001 - accuracy: 0.9912\n",
      "Epoch 18/50\n",
      "263/263 [==============================] - 322s 1s/step - loss: 1.0393 - accuracy: 0.9916\n",
      "Epoch 19/50\n",
      "263/263 [==============================] - 321s 1s/step - loss: 1.8008 - accuracy: 0.9875\n",
      "Epoch 20/50\n",
      "263/263 [==============================] - 321s 1s/step - loss: 0.8782 - accuracy: 0.9929\n",
      "Epoch 21/50\n",
      "263/263 [==============================] - 321s 1s/step - loss: 1.0199 - accuracy: 0.9921\n",
      "Epoch 22/50\n",
      "263/263 [==============================] - 319s 1s/step - loss: 1.7559 - accuracy: 0.9899\n",
      "Epoch 23/50\n",
      "263/263 [==============================] - 321s 1s/step - loss: 1.2099 - accuracy: 0.9923\n",
      "Epoch 24/50\n",
      "263/263 [==============================] - 320s 1s/step - loss: 1.0198 - accuracy: 0.9937\n",
      "Epoch 25/50\n",
      "263/263 [==============================] - 321s 1s/step - loss: 1.5667 - accuracy: 0.9908\n",
      "Epoch 26/50\n",
      "263/263 [==============================] - 321s 1s/step - loss: 1.2217 - accuracy: 0.9933\n",
      "Epoch 27/50\n",
      "263/263 [==============================] - 321s 1s/step - loss: 1.1440 - accuracy: 0.9932\n",
      "Epoch 28/50\n",
      "263/263 [==============================] - 322s 1s/step - loss: 0.6343 - accuracy: 0.9944\n",
      "Epoch 29/50\n",
      "263/263 [==============================] - 322s 1s/step - loss: 0.7735 - accuracy: 0.9946\n",
      "Epoch 30/50\n",
      "263/263 [==============================] - 322s 1s/step - loss: 1.5791 - accuracy: 0.9920\n",
      "Epoch 31/50\n",
      "263/263 [==============================] - 322s 1s/step - loss: 0.6610 - accuracy: 0.9957\n",
      "Epoch 32/50\n",
      "263/263 [==============================] - 322s 1s/step - loss: 0.0691 - accuracy: 0.9986\n",
      "Epoch 33/50\n",
      "263/263 [==============================] - 323s 1s/step - loss: 0.3747 - accuracy: 0.9964\n",
      "Epoch 34/50\n",
      "263/263 [==============================] - 321s 1s/step - loss: 0.2305 - accuracy: 0.9982\n",
      "Epoch 35/50\n",
      "263/263 [==============================] - 322s 1s/step - loss: 0.6112 - accuracy: 0.9966\n",
      "Epoch 36/50\n",
      "263/263 [==============================] - 321s 1s/step - loss: 2.1115 - accuracy: 0.9902\n",
      "Epoch 37/50\n",
      "263/263 [==============================] - 321s 1s/step - loss: 0.1923 - accuracy: 0.9980\n",
      "Epoch 38/50\n",
      "263/263 [==============================] - 321s 1s/step - loss: 1.0824 - accuracy: 0.9948\n",
      "Epoch 39/50\n",
      "263/263 [==============================] - 322s 1s/step - loss: 1.8694 - accuracy: 0.9918\n",
      "Epoch 40/50\n",
      "263/263 [==============================] - 322s 1s/step - loss: 0.7607 - accuracy: 0.9968\n",
      "Epoch 41/50\n",
      "263/263 [==============================] - 326s 1s/step - loss: 0.3760 - accuracy: 0.9971\n",
      "Epoch 42/50\n",
      "263/263 [==============================] - 324s 1s/step - loss: 0.3271 - accuracy: 0.9982\n",
      "Epoch 43/50\n",
      "263/263 [==============================] - 324s 1s/step - loss: 0.0948 - accuracy: 0.9996\n",
      "Epoch 44/50\n",
      "263/263 [==============================] - 321s 1s/step - loss: 0.7610 - accuracy: 0.9952\n",
      "Epoch 45/50\n",
      "263/263 [==============================] - 322s 1s/step - loss: 2.3819 - accuracy: 0.9900\n",
      "Epoch 46/50\n",
      "263/263 [==============================] - 321s 1s/step - loss: 0.0204 - accuracy: 0.9999\n",
      "Epoch 47/50\n",
      "263/263 [==============================] - 323s 1s/step - loss: 0.7530 - accuracy: 0.9971\n",
      "Epoch 48/50\n",
      "263/263 [==============================] - 324s 1s/step - loss: 0.5013 - accuracy: 0.9966\n",
      "Epoch 49/50\n",
      "263/263 [==============================] - 322s 1s/step - loss: 0.5000 - accuracy: 0.9971\n",
      "Epoch 50/50\n",
      "263/263 [==============================] - 321s 1s/step - loss: 1.1731 - accuracy: 0.9960\n"
     ]
    }
   ],
   "source": [
    "history = classifier.fit(x_train, y_train_one_hot, epochs=50, batch_size=32)"
   ]
  },
  {
   "cell_type": "code",
   "execution_count": null,
   "id": "0553296a",
   "metadata": {},
   "outputs": [],
   "source": []
  },
  {
   "cell_type": "code",
   "execution_count": 15,
   "id": "3e083f04",
   "metadata": {},
   "outputs": [
    {
     "name": "stdout",
     "output_type": "stream",
     "text": [
      "66/66 [==============================] - 80s 1s/step\n"
     ]
    }
   ],
   "source": [
    "prediction_NN = classifier.predict(x_test)\n",
    "prediction_NN = np.argmax(prediction_NN, axis=-1)\n",
    "prediction_NN = label_encoder.inverse_transform(prediction_NN)"
   ]
  },
  {
   "cell_type": "code",
   "execution_count": 16,
   "id": "ea26ce52",
   "metadata": {},
   "outputs": [
    {
     "name": "stdout",
     "output_type": "stream",
     "text": [
      "[[1184    1    0    0    4]\n",
      " [   4  148    0    3    1]\n",
      " [  12    3  139    0    2]\n",
      " [  15    6    1  104    1]\n",
      " [   0    0    0    0  476]]\n"
     ]
    }
   ],
   "source": [
    "#Confusion Matrix - verify accuracy of each class\n",
    "from sklearn.metrics import confusion_matrix\n",
    "cm = confusion_matrix(test_labels, prediction_NN)\n",
    "print(cm)"
   ]
  },
  {
   "cell_type": "code",
   "execution_count": 17,
   "id": "e7eb8078",
   "metadata": {},
   "outputs": [
    {
     "name": "stdout",
     "output_type": "stream",
     "text": [
      "Accuracy =  0.9748098859315589\n"
     ]
    }
   ],
   "source": [
    "from sklearn import metrics\n",
    "print (\"Accuracy = \", metrics.accuracy_score(test_labels, prediction_NN))"
   ]
  },
  {
   "cell_type": "code",
   "execution_count": 18,
   "id": "4ce00190",
   "metadata": {},
   "outputs": [
    {
     "name": "stdout",
     "output_type": "stream",
     "text": [
      "              precision    recall  f1-score   support\n",
      "\n",
      "     Class 0      0.974     0.996     0.985      1189\n",
      "     Class 1      0.937     0.949     0.943       156\n",
      "     Class 2      0.993     0.891     0.939       156\n",
      "     Class 3      0.972     0.819     0.889       127\n",
      "     Class 4      0.983     1.000     0.992       476\n",
      "\n",
      "    accuracy                          0.975      2104\n",
      "   macro avg      0.972     0.931     0.949      2104\n",
      "weighted avg      0.975     0.975     0.974      2104\n",
      "\n"
     ]
    }
   ],
   "source": [
    "# Use scikit-learn to get statistics\n",
    "from sklearn.metrics import confusion_matrix\n",
    "from sklearn.metrics import classification_report\n",
    "\n",
    "# print(class_labels)\n",
    "target_names = ['Class 0', 'Class 1', 'Class 2', 'Class 3', 'Class 4']\n",
    "# print(confusion_matrix(test_labels, prediction_NN))\n",
    "print(classification_report(test_labels, prediction_NN, target_names=target_names,digits=3))"
   ]
  },
  {
   "cell_type": "code",
   "execution_count": 19,
   "id": "bed0c5b1",
   "metadata": {},
   "outputs": [],
   "source": [
    "import matplotlib.pyplot as plt\n",
    "from mlxtend.plotting import plot_confusion_matrix"
   ]
  },
  {
   "cell_type": "code",
   "execution_count": 20,
   "id": "ffc9b774",
   "metadata": {},
   "outputs": [
    {
     "data": {
      "image/png": "[encoded data removed]",
      "text/plain": [
       "<Figure size 640x480 with 2 Axes>"
      ]
     },
     "metadata": {},
     "output_type": "display_data"
    }
   ],
   "source": [
    "class_dict = {0: 'Class 0',\n",
    "              1: 'Class 1',\n",
    "              2: 'Class 2',\n",
    "              3: 'Class 3',\n",
    "              4: 'Class 4'}\n",
    "\n",
    "multiclass = np.array([[1184,    1,    0,    0,    4],\n",
    "                       [4,  148,    0,    3,    1],\n",
    "                       [12,    3,  139,    0,    2],\n",
    "                       [15,    6,    1,  104,    1],\n",
    "                       [0,    0,    0,    0,  476]])\n",
    "\n",
    "fig, ax = plot_confusion_matrix(\n",
    "    conf_mat=multiclass,\n",
    "    class_names=class_dict.values(),show_normed=True,colorbar=True)"
   ]
  }
 ],
 "metadata": {
  "kernelspec": {
   "display_name": "Python 3 (ipykernel)",
   "language": "python",
   "name": "python3"
  },
  "language_info": {
   "codemirror_mode": {
    "name": "ipython",
    "version": 3
   },
   "file_extension": ".py",
   "mimetype": "text/x-python",
   "name": "python",
   "nbconvert_exporter": "python",
   "pygments_lexer": "ipython3",
   "version": "3.9.13"
  }
 },
 "nbformat": 4,
 "nbformat_minor": 5
}
