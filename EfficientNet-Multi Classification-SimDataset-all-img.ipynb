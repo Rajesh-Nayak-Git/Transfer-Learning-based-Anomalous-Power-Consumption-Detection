{
 "cells": [
  {
   "cell_type": "code",
   "execution_count": 1,
   "id": "72eac450",
   "metadata": {},
   "outputs": [],
   "source": [
    "import numpy as np \n",
    "import matplotlib.pyplot as plt\n",
    "import glob\n",
    "import cv2\n",
    "from tensorflow.keras.models import Model, Sequential\n",
    "from tensorflow.keras.layers import Dense, Flatten, Conv2D, MaxPooling2D\n",
    "# from tensorflow.keras.layers.normalization import BatchNormalization\n",
    "import os\n",
    "import seaborn as sns\n",
    "from keras.applications import EfficientNetB0\n",
    "from tensorflow.python.keras.layers import Dense, Flatten, GlobalAveragePooling2D\n",
    "from sklearn import preprocessing"
   ]
  },
  {
   "cell_type": "code",
   "execution_count": 2,
   "id": "aaa3a157",
   "metadata": {},
   "outputs": [],
   "source": [
    "SIZE=224"
   ]
  },
  {
   "cell_type": "code",
   "execution_count": 3,
   "id": "99147fbd",
   "metadata": {},
   "outputs": [],
   "source": [
    "train_images, train_labels = [], []\n",
    "for directory_path in glob.glob(\"Training/*\"):\n",
    "    tr_label = directory_path.split(\"\\\\\")[-1]\n",
    "    for img_path in glob.glob(os.path.join(directory_path, \"*.png\")):\n",
    "        img = cv2.imread(img_path, cv2.IMREAD_COLOR)\n",
    "        train_images.append(img)\n",
    "        train_labels.append(tr_label)"
   ]
  },
  {
   "cell_type": "code",
   "execution_count": 4,
   "id": "60734ae9",
   "metadata": {},
   "outputs": [],
   "source": [
    "test_images, test_labels = [], []\n",
    "for directory_path in glob.glob(\"Testing/*\"):\n",
    "    ts_label = directory_path.split(\"\\\\\")[-1]\n",
    "    for img_path in glob.glob(os.path.join(directory_path, \"*.png\")):\n",
    "        img = cv2.imread(img_path, cv2.IMREAD_COLOR)\n",
    "        test_images.append(img)\n",
    "        test_labels.append(ts_label)"
   ]
  },
  {
   "cell_type": "code",
   "execution_count": 5,
   "id": "97d11bd5",
   "metadata": {},
   "outputs": [],
   "source": [
    "# Convert images and labels to numpy arrays\n",
    "x_train = np.array(train_images)\n",
    "y_train = np.array(train_labels)\n",
    "x_test = np.array(test_images)\n",
    "y_test = np.array(test_labels)"
   ]
  },
  {
   "cell_type": "code",
   "execution_count": 6,
   "id": "0c097bb6",
   "metadata": {},
   "outputs": [
    {
     "data": {
      "text/plain": [
       "((8406, 224, 224, 3), (8406,), (2104, 224, 224, 3), (2104,))"
      ]
     },
     "execution_count": 6,
     "metadata": {},
     "output_type": "execute_result"
    }
   ],
   "source": [
    "x_train.shape, y_train.shape, x_test.shape, y_test.shape"
   ]
  },
  {
   "cell_type": "code",
   "execution_count": 7,
   "id": "9b860add",
   "metadata": {},
   "outputs": [],
   "source": [
    "# Encode labels from text to integers\n",
    "label_encoder = preprocessing.LabelEncoder()\n",
    "y_train_encoded = label_encoder.fit_transform(y_train)\n",
    "y_test_encoded = label_encoder.transform(y_test)\n",
    "\n",
    "# One-hot encode y values for the neural network\n",
    "from keras.utils import to_categorical\n",
    "y_train_one_hot = to_categorical(y_train_encoded, num_classes=5)\n",
    "y_test_one_hot = to_categorical(y_test_encoded, num_classes=5)"
   ]
  },
  {
   "cell_type": "code",
   "execution_count": 8,
   "id": "1d667752",
   "metadata": {},
   "outputs": [
    {
     "data": {
      "text/plain": [
       "((8406, 224, 224, 3), (8406, 5), (2104, 224, 224, 3), (2104, 5))"
      ]
     },
     "execution_count": 8,
     "metadata": {},
     "output_type": "execute_result"
    }
   ],
   "source": [
    "x_train.shape, y_train_one_hot.shape, x_test.shape, y_test_one_hot.shape"
   ]
  },
  {
   "cell_type": "code",
   "execution_count": 9,
   "id": "38784b85",
   "metadata": {},
   "outputs": [],
   "source": [
    "base_model = EfficientNetB0(input_shape=(224, 224,3), include_top=False, weights=\"imagenet\")"
   ]
  },
  {
   "cell_type": "code",
   "execution_count": 10,
   "id": "5aa2f729",
   "metadata": {},
   "outputs": [],
   "source": [
    "from tensorflow.keras import layers \n",
    "import tensorflow as tf\n",
    "for layer in base_model.layers:\n",
    "    layer.trainable = False"
   ]
  },
  {
   "cell_type": "code",
   "execution_count": 11,
   "id": "60105ec4",
   "metadata": {},
   "outputs": [],
   "source": [
    "base_model.trainable=False\n",
    "classifier=Sequential()\n",
    "classifier.add(base_model)\n",
    "classifier.add(Flatten())\n",
    "classifier.add(Dense(5,activation='softmax'))"
   ]
  },
  {
   "cell_type": "code",
   "execution_count": 12,
   "id": "ab2c73f0",
   "metadata": {},
   "outputs": [],
   "source": [
    "classifier.compile(optimizer='adam',\n",
    "              loss='categorical_crossentropy',\n",
    "              metrics=['accuracy'])"
   ]
  },
  {
   "cell_type": "code",
   "execution_count": 14,
   "id": "0670b7e8",
   "metadata": {
    "scrolled": true
   },
   "outputs": [
    {
     "name": "stdout",
     "output_type": "stream",
     "text": [
      "Epoch 1/50\n",
      "263/263 [==============================] - 237s 892ms/step - loss: 0.4412 - accuracy: 0.9212\n",
      "Epoch 2/50\n",
      "263/263 [==============================] - 235s 895ms/step - loss: 0.1085 - accuracy: 0.9759\n",
      "Epoch 3/50\n",
      "263/263 [==============================] - 234s 888ms/step - loss: 0.1143 - accuracy: 0.9783\n",
      "Epoch 4/50\n",
      "263/263 [==============================] - 233s 888ms/step - loss: 0.1309 - accuracy: 0.9767\n",
      "Epoch 5/50\n",
      "263/263 [==============================] - 251s 953ms/step - loss: 0.1314 - accuracy: 0.9814\n",
      "Epoch 6/50\n",
      "263/263 [==============================] - 242s 920ms/step - loss: 0.0618 - accuracy: 0.9892\n",
      "Epoch 7/50\n",
      "263/263 [==============================] - 238s 903ms/step - loss: 0.0585 - accuracy: 0.9908\n",
      "Epoch 8/50\n",
      "263/263 [==============================] - 233s 884ms/step - loss: 0.0875 - accuracy: 0.9877\n",
      "Epoch 9/50\n",
      "263/263 [==============================] - 233s 884ms/step - loss: 0.0478 - accuracy: 0.9925\n",
      "Epoch 10/50\n",
      "263/263 [==============================] - 233s 885ms/step - loss: 0.0855 - accuracy: 0.9893\n",
      "Epoch 11/50\n",
      "263/263 [==============================] - 231s 880ms/step - loss: 0.0955 - accuracy: 0.9892\n",
      "Epoch 12/50\n",
      "263/263 [==============================] - 233s 887ms/step - loss: 0.0685 - accuracy: 0.9905\n",
      "Epoch 13/50\n",
      "263/263 [==============================] - 235s 894ms/step - loss: 0.1055 - accuracy: 0.9879\n",
      "Epoch 14/50\n",
      "263/263 [==============================] - 231s 877ms/step - loss: 0.1315 - accuracy: 0.9877\n",
      "Epoch 15/50\n",
      "263/263 [==============================] - 230s 874ms/step - loss: 0.0517 - accuracy: 0.9945\n",
      "Epoch 16/50\n",
      "263/263 [==============================] - 230s 875ms/step - loss: 0.0789 - accuracy: 0.9916\n",
      "Epoch 17/50\n",
      "263/263 [==============================] - 231s 878ms/step - loss: 0.0406 - accuracy: 0.9954\n",
      "Epoch 18/50\n",
      "263/263 [==============================] - 230s 876ms/step - loss: 0.0431 - accuracy: 0.9948\n",
      "Epoch 19/50\n",
      "263/263 [==============================] - 230s 875ms/step - loss: 0.0895 - accuracy: 0.9921\n",
      "Epoch 20/50\n",
      "263/263 [==============================] - 230s 875ms/step - loss: 0.0768 - accuracy: 0.9937\n",
      "Epoch 21/50\n",
      "263/263 [==============================] - 235s 894ms/step - loss: 0.0795 - accuracy: 0.9918\n",
      "Epoch 22/50\n",
      "263/263 [==============================] - 234s 891ms/step - loss: 0.0855 - accuracy: 0.9927\n",
      "Epoch 23/50\n",
      "263/263 [==============================] - 237s 900ms/step - loss: 0.0563 - accuracy: 0.9946\n",
      "Epoch 24/50\n",
      "263/263 [==============================] - 236s 898ms/step - loss: 0.0321 - accuracy: 0.9968\n",
      "Epoch 25/50\n",
      "263/263 [==============================] - 235s 892ms/step - loss: 0.0758 - accuracy: 0.9935\n",
      "Epoch 26/50\n",
      "263/263 [==============================] - 235s 892ms/step - loss: 0.1222 - accuracy: 0.9913\n",
      "Epoch 27/50\n",
      "263/263 [==============================] - 234s 890ms/step - loss: 0.0684 - accuracy: 0.9936\n",
      "Epoch 28/50\n",
      "263/263 [==============================] - 230s 875ms/step - loss: 0.0518 - accuracy: 0.9951\n",
      "Epoch 29/50\n",
      "263/263 [==============================] - 231s 879ms/step - loss: 0.0279 - accuracy: 0.9971\n",
      "Epoch 30/50\n",
      "263/263 [==============================] - 229s 870ms/step - loss: 0.0530 - accuracy: 0.9963\n",
      "Epoch 31/50\n",
      "263/263 [==============================] - 230s 873ms/step - loss: 0.0475 - accuracy: 0.9952\n",
      "Epoch 32/50\n",
      "263/263 [==============================] - 230s 873ms/step - loss: 0.0415 - accuracy: 0.9967\n",
      "Epoch 33/50\n",
      "263/263 [==============================] - 229s 872ms/step - loss: 0.0504 - accuracy: 0.9957\n",
      "Epoch 34/50\n",
      "263/263 [==============================] - 234s 890ms/step - loss: 0.0661 - accuracy: 0.9944\n",
      "Epoch 35/50\n",
      "263/263 [==============================] - 230s 873ms/step - loss: 0.0270 - accuracy: 0.9970\n",
      "Epoch 36/50\n",
      "263/263 [==============================] - 230s 875ms/step - loss: 0.0171 - accuracy: 0.9976\n",
      "Epoch 37/50\n",
      "263/263 [==============================] - 230s 873ms/step - loss: 0.0807 - accuracy: 0.9939\n",
      "Epoch 38/50\n",
      "263/263 [==============================] - 230s 875ms/step - loss: 0.0423 - accuracy: 0.9971\n",
      "Epoch 39/50\n",
      "263/263 [==============================] - 230s 873ms/step - loss: 0.0602 - accuracy: 0.9961\n",
      "Epoch 40/50\n",
      "263/263 [==============================] - 230s 875ms/step - loss: 0.0829 - accuracy: 0.9949\n",
      "Epoch 41/50\n",
      "263/263 [==============================] - 230s 874ms/step - loss: 0.0356 - accuracy: 0.9966\n",
      "Epoch 42/50\n",
      "263/263 [==============================] - 230s 875ms/step - loss: 0.1030 - accuracy: 0.9960\n",
      "Epoch 43/50\n",
      "263/263 [==============================] - 230s 875ms/step - loss: 0.0625 - accuracy: 0.9960\n",
      "Epoch 44/50\n",
      "263/263 [==============================] - 231s 877ms/step - loss: 0.0357 - accuracy: 0.9971\n",
      "Epoch 45/50\n",
      "263/263 [==============================] - 231s 877ms/step - loss: 0.0147 - accuracy: 0.9981\n",
      "Epoch 46/50\n",
      "263/263 [==============================] - 230s 875ms/step - loss: 0.0466 - accuracy: 0.9963\n",
      "Epoch 47/50\n",
      "263/263 [==============================] - 230s 874ms/step - loss: 0.1053 - accuracy: 0.9944\n",
      "Epoch 48/50\n",
      "263/263 [==============================] - 230s 874ms/step - loss: 0.0679 - accuracy: 0.9961\n",
      "Epoch 49/50\n",
      "263/263 [==============================] - 230s 873ms/step - loss: 0.0270 - accuracy: 0.9980\n",
      "Epoch 50/50\n",
      "263/263 [==============================] - 230s 873ms/step - loss: 0.0205 - accuracy: 0.9985\n"
     ]
    }
   ],
   "source": [
    "history = classifier.fit(x_train, y_train_one_hot, epochs=50, batch_size=32)"
   ]
  },
  {
   "cell_type": "code",
   "execution_count": null,
   "id": "0553296a",
   "metadata": {},
   "outputs": [],
   "source": []
  },
  {
   "cell_type": "code",
   "execution_count": 16,
   "id": "3e083f04",
   "metadata": {},
   "outputs": [
    {
     "name": "stdout",
     "output_type": "stream",
     "text": [
      "66/66 [==============================] - 60s 909ms/step\n"
     ]
    }
   ],
   "source": [
    "prediction_NN = classifier.predict(x_test)\n",
    "prediction_NN = np.argmax(prediction_NN, axis=-1)\n",
    "prediction_NN = label_encoder.inverse_transform(prediction_NN)"
   ]
  },
  {
   "cell_type": "code",
   "execution_count": 17,
   "id": "ea26ce52",
   "metadata": {},
   "outputs": [
    {
     "name": "stdout",
     "output_type": "stream",
     "text": [
      "[[1189    0    0    0    0]\n",
      " [   0  153    0    3    0]\n",
      " [   0    0  156    0    0]\n",
      " [   0    0    0  127    0]\n",
      " [   0    0    0    1  475]]\n"
     ]
    }
   ],
   "source": [
    "#Confusion Matrix - verify accuracy of each class\n",
    "from sklearn.metrics import confusion_matrix\n",
    "cm = confusion_matrix(test_labels, prediction_NN)\n",
    "print(cm)"
   ]
  },
  {
   "cell_type": "code",
   "execution_count": 18,
   "id": "e7eb8078",
   "metadata": {},
   "outputs": [
    {
     "name": "stdout",
     "output_type": "stream",
     "text": [
      "Accuracy =  0.9980988593155894\n"
     ]
    }
   ],
   "source": [
    "from sklearn import metrics\n",
    "print (\"Accuracy = \", metrics.accuracy_score(test_labels, prediction_NN))"
   ]
  },
  {
   "cell_type": "code",
   "execution_count": 19,
   "id": "4ce00190",
   "metadata": {
    "scrolled": true
   },
   "outputs": [
    {
     "name": "stdout",
     "output_type": "stream",
     "text": [
      "              precision    recall  f1-score   support\n",
      "\n",
      "     Class 0      1.000     1.000     1.000      1189\n",
      "     Class 1      1.000     0.981     0.990       156\n",
      "     Class 2      1.000     1.000     1.000       156\n",
      "     Class 3      0.969     1.000     0.984       127\n",
      "     Class 4      1.000     0.998     0.999       476\n",
      "\n",
      "    accuracy                          0.998      2104\n",
      "   macro avg      0.994     0.996     0.995      2104\n",
      "weighted avg      0.998     0.998     0.998      2104\n",
      "\n"
     ]
    }
   ],
   "source": [
    "# Use scikit-learn to get statistics\n",
    "from sklearn.metrics import confusion_matrix\n",
    "from sklearn.metrics import classification_report\n",
    "\n",
    "# print(class_labels)\n",
    "target_names = ['Class 0', 'Class 1', 'Class 2', 'Class 3', 'Class 4']\n",
    "# print(confusion_matrix(test_labels, prediction_NN))\n",
    "print(classification_report(test_labels, prediction_NN, target_names=target_names,digits=3))"
   ]
  },
  {
   "cell_type": "code",
   "execution_count": 20,
   "id": "0f2a2c79",
   "metadata": {},
   "outputs": [],
   "source": [
    "import matplotlib.pyplot as plt\n",
    "from mlxtend.plotting import plot_confusion_matrix"
   ]
  },
  {
   "cell_type": "code",
   "execution_count": 21,
   "id": "62301aa5",
   "metadata": {},
   "outputs": [
    {
     "data": {
      "image/png": "[encoded data removed]",
      "text/plain": [
       "<Figure size 640x480 with 2 Axes>"
      ]
     },
     "metadata": {},
     "output_type": "display_data"
    }
   ],
   "source": [
    "class_dict = {0: 'Class 0',\n",
    "              1: 'Class 1',\n",
    "              2: 'Class 2',\n",
    "              3: 'Class 3',\n",
    "              4: 'Class 4'}\n",
    "\n",
    "multiclass = np.array([[1189,    0,    0,    0,    0],\n",
    "                       [0,  153,    0,    3,    0],\n",
    "                       [0,    0,  156,    0,    0],\n",
    "                       [0,    0,    0,  127,    0],\n",
    "                       [0,    0,    0,    1,  475]])\n",
    "\n",
    "fig, ax = plot_confusion_matrix(\n",
    "    conf_mat=multiclass,\n",
    "    class_names=class_dict.values(),show_normed=True,colorbar=True)"
   ]
  }
 ],
 "metadata": {
  "kernelspec": {
   "display_name": "Python 3 (ipykernel)",
   "language": "python",
   "name": "python3"
  },
  "language_info": {
   "codemirror_mode": {
    "name": "ipython",
    "version": 3
   },
   "file_extension": ".py",
   "mimetype": "text/x-python",
   "name": "python",
   "nbconvert_exporter": "python",
   "pygments_lexer": "ipython3",
   "version": "3.9.13"
  }
 },
 "nbformat": 4,
 "nbformat_minor": 5
}
