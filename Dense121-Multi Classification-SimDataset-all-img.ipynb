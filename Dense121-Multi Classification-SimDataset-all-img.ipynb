{
 "cells": [
  {
   "cell_type": "code",
   "execution_count": 1,
   "id": "72eac450",
   "metadata": {},
   "outputs": [],
   "source": [
    "import numpy as np \n",
    "import matplotlib.pyplot as plt\n",
    "import glob\n",
    "import cv2\n",
    "from tensorflow.keras.models import Model, Sequential\n",
    "from tensorflow.keras.layers import Dense, Flatten, Conv2D, MaxPooling2D\n",
    "# from tensorflow.keras.layers.normalization import BatchNormalization\n",
    "import os\n",
    "import seaborn as sns\n",
    "from keras.applications import DenseNet121\n",
    "from tensorflow.python.keras.layers import Dense, Flatten, GlobalAveragePooling2D\n",
    "from sklearn import preprocessing"
   ]
  },
  {
   "cell_type": "code",
   "execution_count": 2,
   "id": "aaa3a157",
   "metadata": {},
   "outputs": [],
   "source": [
    "SIZE=224"
   ]
  },
  {
   "cell_type": "code",
   "execution_count": 3,
   "id": "99147fbd",
   "metadata": {},
   "outputs": [],
   "source": [
    "train_images, train_labels = [], []\n",
    "for directory_path in glob.glob(\"Training/*\"):\n",
    "    tr_label = directory_path.split(\"\\\\\")[-1]\n",
    "    for img_path in glob.glob(os.path.join(directory_path, \"*.png\")):\n",
    "        img = cv2.imread(img_path, cv2.IMREAD_COLOR)\n",
    "        train_images.append(img)\n",
    "        train_labels.append(tr_label)"
   ]
  },
  {
   "cell_type": "code",
   "execution_count": null,
   "id": "119624a3",
   "metadata": {},
   "outputs": [],
   "source": [
    "# train_labels"
   ]
  },
  {
   "cell_type": "code",
   "execution_count": 4,
   "id": "97d11bd5",
   "metadata": {},
   "outputs": [],
   "source": [
    "test_images, test_labels = [], []\n",
    "for directory_path in glob.glob(\"Testing/*\"):\n",
    "    ts_label = directory_path.split(\"\\\\\")[-1]\n",
    "    for img_path in glob.glob(os.path.join(directory_path, \"*.png\")):\n",
    "        img = cv2.imread(img_path, cv2.IMREAD_COLOR)\n",
    "        test_images.append(img)\n",
    "        test_labels.append(ts_label)"
   ]
  },
  {
   "cell_type": "code",
   "execution_count": null,
   "id": "5b0c7b20",
   "metadata": {},
   "outputs": [],
   "source": [
    "# test_labels"
   ]
  },
  {
   "cell_type": "code",
   "execution_count": 5,
   "id": "993b585a",
   "metadata": {},
   "outputs": [],
   "source": [
    "# Convert images and labels to numpy arrays\n",
    "x_train = np.array(train_images)\n",
    "y_train = np.array(train_labels)\n",
    "x_test = np.array(test_images)\n",
    "y_test = np.array(test_labels)"
   ]
  },
  {
   "cell_type": "code",
   "execution_count": 6,
   "id": "8abead64",
   "metadata": {
    "scrolled": true
   },
   "outputs": [
    {
     "data": {
      "text/plain": [
       "((8406, 224, 224, 3), (8406,), (2104, 224, 224, 3), (2104,))"
      ]
     },
     "execution_count": 6,
     "metadata": {},
     "output_type": "execute_result"
    }
   ],
   "source": [
    "x_train.shape, y_train.shape, x_test.shape, y_test.shape"
   ]
  },
  {
   "cell_type": "code",
   "execution_count": 9,
   "id": "17c9c9bc",
   "metadata": {},
   "outputs": [
    {
     "name": "stdout",
     "output_type": "stream",
     "text": [
      "Unique labels in y_train: ['class0' 'class1' 'class2' 'class3' 'class4']\n",
      "Unique labels in y_test: ['class0' 'class1' 'class2' 'class3' 'class4']\n",
      "Unique labels in y_train_encoded: [0 1 2 3 4]\n",
      "Unique labels in y_test_encoded: [0 1 2 3 4]\n"
     ]
    }
   ],
   "source": [
    "# Before one-hot encoding\n",
    "unique_labels_train = np.unique(y_train)\n",
    "unique_labels_test = np.unique(y_test)\n",
    "\n",
    "# After one-hot encoding\n",
    "unique_labels_train_encoded = np.unique(y_train_encoded)\n",
    "unique_labels_test_encoded = np.unique(y_test_encoded)\n",
    "\n",
    "print(\"Unique labels in y_train:\", unique_labels_train)\n",
    "print(\"Unique labels in y_test:\", unique_labels_test)\n",
    "print(\"Unique labels in y_train_encoded:\", unique_labels_train_encoded)\n",
    "print(\"Unique labels in y_test_encoded:\", unique_labels_test_encoded)"
   ]
  },
  {
   "cell_type": "code",
   "execution_count": 11,
   "id": "8ed56459",
   "metadata": {},
   "outputs": [],
   "source": [
    "# Encode labels from text to integers\n",
    "label_encoder = preprocessing.LabelEncoder()\n",
    "y_train_encoded = label_encoder.fit_transform(y_train)\n",
    "y_test_encoded = label_encoder.transform(y_test)\n",
    "\n",
    "# One-hot encode y values for the neural network\n",
    "from keras.utils import to_categorical\n",
    "y_train_one_hot = to_categorical(y_train_encoded, num_classes=5)\n",
    "y_test_one_hot = to_categorical(y_test_encoded, num_classes=5)"
   ]
  },
  {
   "cell_type": "code",
   "execution_count": 13,
   "id": "1606e535",
   "metadata": {},
   "outputs": [
    {
     "data": {
      "text/plain": [
       "((8406, 224, 224, 3), (8406, 5), (2104, 224, 224, 3), (2104, 5))"
      ]
     },
     "execution_count": 13,
     "metadata": {},
     "output_type": "execute_result"
    }
   ],
   "source": [
    "x_train.shape, y_train_one_hot.shape, x_test.shape, y_test_one_hot.shape"
   ]
  },
  {
   "cell_type": "code",
   "execution_count": 14,
   "id": "38784b85",
   "metadata": {},
   "outputs": [],
   "source": [
    "base_model = DenseNet121(input_shape=(SIZE, SIZE, 3), include_top=False, weights=\"imagenet\")"
   ]
  },
  {
   "cell_type": "code",
   "execution_count": 15,
   "id": "5aa2f729",
   "metadata": {},
   "outputs": [],
   "source": [
    "from tensorflow.keras import layers \n",
    "import tensorflow as tf\n",
    "for layer in base_model.layers:\n",
    "    layer.trainable = False"
   ]
  },
  {
   "cell_type": "code",
   "execution_count": 16,
   "id": "60105ec4",
   "metadata": {},
   "outputs": [],
   "source": [
    "base_model.trainable=False\n",
    "classifier=Sequential()\n",
    "classifier.add(base_model)\n",
    "classifier.add(Flatten())\n",
    "classifier.add(Dense(5,activation='softmax'))"
   ]
  },
  {
   "cell_type": "code",
   "execution_count": 17,
   "id": "ab2c73f0",
   "metadata": {},
   "outputs": [],
   "source": [
    "classifier.compile(optimizer='adam',\n",
    "              loss='categorical_crossentropy',\n",
    "              metrics=['accuracy'])"
   ]
  },
  {
   "cell_type": "code",
   "execution_count": 19,
   "id": "0670b7e8",
   "metadata": {
    "scrolled": true
   },
   "outputs": [
    {
     "name": "stdout",
     "output_type": "stream",
     "text": [
      "Epoch 1/50\n",
      "263/263 [==============================] - 390s 1s/step - loss: 20.1281 - accuracy: 0.8884\n",
      "Epoch 2/50\n",
      "263/263 [==============================] - 396s 2s/step - loss: 2.5243 - accuracy: 0.9578\n",
      "Epoch 3/50\n",
      "263/263 [==============================] - 414s 2s/step - loss: 3.5616 - accuracy: 0.9544\n",
      "Epoch 4/50\n",
      "263/263 [==============================] - 398s 2s/step - loss: 2.1566 - accuracy: 0.9698\n",
      "Epoch 5/50\n",
      "263/263 [==============================] - 395s 2s/step - loss: 1.2249 - accuracy: 0.9806\n",
      "Epoch 6/50\n",
      "263/263 [==============================] - 389s 1s/step - loss: 2.5878 - accuracy: 0.9724\n",
      "Epoch 7/50\n",
      "263/263 [==============================] - 374s 1s/step - loss: 1.2802 - accuracy: 0.9843\n",
      "Epoch 8/50\n",
      "263/263 [==============================] - 373s 1s/step - loss: 1.7898 - accuracy: 0.9795\n",
      "Epoch 9/50\n",
      "263/263 [==============================] - 373s 1s/step - loss: 2.3503 - accuracy: 0.9799\n",
      "Epoch 10/50\n",
      "263/263 [==============================] - 377s 1s/step - loss: 1.7196 - accuracy: 0.9842\n",
      "Epoch 11/50\n",
      "263/263 [==============================] - 407s 2s/step - loss: 2.8352 - accuracy: 0.9791\n",
      "Epoch 12/50\n",
      "263/263 [==============================] - 418s 2s/step - loss: 1.3187 - accuracy: 0.9861\n",
      "Epoch 13/50\n",
      "263/263 [==============================] - 385s 1s/step - loss: 1.3615 - accuracy: 0.9879\n",
      "Epoch 14/50\n",
      "263/263 [==============================] - 379s 1s/step - loss: 2.0155 - accuracy: 0.9825\n",
      "Epoch 15/50\n",
      "263/263 [==============================] - 377s 1s/step - loss: 4.2864 - accuracy: 0.9748\n",
      "Epoch 16/50\n",
      "263/263 [==============================] - 377s 1s/step - loss: 1.1145 - accuracy: 0.9908\n",
      "Epoch 17/50\n",
      "263/263 [==============================] - 375s 1s/step - loss: 0.9851 - accuracy: 0.9917\n",
      "Epoch 18/50\n",
      "263/263 [==============================] - 377s 1s/step - loss: 1.3828 - accuracy: 0.9901\n",
      "Epoch 19/50\n",
      "263/263 [==============================] - 375s 1s/step - loss: 0.3012 - accuracy: 0.9970\n",
      "Epoch 20/50\n",
      "263/263 [==============================] - 375s 1s/step - loss: 1.3538 - accuracy: 0.9897\n",
      "Epoch 21/50\n",
      "263/263 [==============================] - 382s 1s/step - loss: 1.7313 - accuracy: 0.9905\n",
      "Epoch 22/50\n",
      "263/263 [==============================] - 382s 1s/step - loss: 3.4560 - accuracy: 0.9836\n",
      "Epoch 23/50\n",
      "263/263 [==============================] - 375s 1s/step - loss: 1.7001 - accuracy: 0.9893\n",
      "Epoch 24/50\n",
      "263/263 [==============================] - 375s 1s/step - loss: 1.3015 - accuracy: 0.9929\n",
      "Epoch 25/50\n",
      "263/263 [==============================] - 371s 1s/step - loss: 0.6387 - accuracy: 0.9948\n",
      "Epoch 26/50\n",
      "263/263 [==============================] - 374s 1s/step - loss: 1.2782 - accuracy: 0.9914\n",
      "Epoch 27/50\n",
      "263/263 [==============================] - 372s 1s/step - loss: 0.8280 - accuracy: 0.9956\n",
      "Epoch 28/50\n",
      "263/263 [==============================] - 373s 1s/step - loss: 0.4024 - accuracy: 0.9962\n",
      "Epoch 29/50\n",
      "263/263 [==============================] - 373s 1s/step - loss: 2.9883 - accuracy: 0.9864\n",
      "Epoch 30/50\n",
      "263/263 [==============================] - 372s 1s/step - loss: 0.7350 - accuracy: 0.9951\n",
      "Epoch 31/50\n",
      "263/263 [==============================] - 378s 1s/step - loss: 2.9358 - accuracy: 0.9886\n",
      "Epoch 32/50\n",
      "263/263 [==============================] - 395s 2s/step - loss: 0.6377 - accuracy: 0.9962\n",
      "Epoch 33/50\n",
      "263/263 [==============================] - 376s 1s/step - loss: 0.7918 - accuracy: 0.9946\n",
      "Epoch 34/50\n",
      "263/263 [==============================] - 373s 1s/step - loss: 1.0576 - accuracy: 0.9951\n",
      "Epoch 35/50\n",
      "263/263 [==============================] - 372s 1s/step - loss: 0.3553 - accuracy: 0.9976\n",
      "Epoch 36/50\n",
      "263/263 [==============================] - 373s 1s/step - loss: 0.4460 - accuracy: 0.9969\n",
      "Epoch 37/50\n",
      "263/263 [==============================] - 373s 1s/step - loss: 1.3382 - accuracy: 0.9958\n",
      "Epoch 38/50\n",
      "263/263 [==============================] - 373s 1s/step - loss: 1.3466e-06 - accuracy: 1.0000\n",
      "Epoch 39/50\n",
      "263/263 [==============================] - 373s 1s/step - loss: 3.7580e-09 - accuracy: 1.0000\n",
      "Epoch 40/50\n",
      "263/263 [==============================] - 374s 1s/step - loss: 3.5453e-09 - accuracy: 1.0000\n",
      "Epoch 41/50\n",
      "263/263 [==============================] - 374s 1s/step - loss: 3.3184e-09 - accuracy: 1.0000\n",
      "Epoch 42/50\n",
      "263/263 [==============================] - 373s 1s/step - loss: 3.1057e-09 - accuracy: 1.0000\n",
      "Epoch 43/50\n",
      "263/263 [==============================] - 373s 1s/step - loss: 2.8930e-09 - accuracy: 1.0000\n",
      "Epoch 44/50\n",
      "263/263 [==============================] - 376s 1s/step - loss: 2.6519e-09 - accuracy: 1.0000\n",
      "Epoch 45/50\n",
      "263/263 [==============================] - 376s 1s/step - loss: 2.4250e-09 - accuracy: 1.0000\n",
      "Epoch 46/50\n",
      "263/263 [==============================] - 379s 1s/step - loss: 2.2123e-09 - accuracy: 1.0000\n",
      "Epoch 47/50\n",
      "263/263 [==============================] - 377s 1s/step - loss: 1.9996e-09 - accuracy: 1.0000\n",
      "Epoch 48/50\n",
      "263/263 [==============================] - 379s 1s/step - loss: 1.8010e-09 - accuracy: 1.0000\n",
      "Epoch 49/50\n",
      "263/263 [==============================] - 378s 1s/step - loss: 1.6450e-09 - accuracy: 1.0000\n",
      "Epoch 50/50\n",
      "263/263 [==============================] - 395s 2s/step - loss: 1.4890e-09 - accuracy: 1.0000\n"
     ]
    }
   ],
   "source": [
    "# Train the model\n",
    "history = classifier.fit(x_train, y_train_one_hot, epochs=50, batch_size=32)"
   ]
  },
  {
   "cell_type": "code",
   "execution_count": 31,
   "id": "3e083f04",
   "metadata": {},
   "outputs": [
    {
     "name": "stdout",
     "output_type": "stream",
     "text": [
      "66/66 [==============================] - 137s 2s/step\n"
     ]
    }
   ],
   "source": [
    "prediction_NN = classifier.predict(x_test)\n",
    "prediction_NN = np.argmax(prediction_NN, axis=-1)\n",
    "prediction_NN = label_encoder.inverse_transform(prediction_NN)"
   ]
  },
  {
   "cell_type": "code",
   "execution_count": 32,
   "id": "ea26ce52",
   "metadata": {},
   "outputs": [
    {
     "name": "stdout",
     "output_type": "stream",
     "text": [
      "[[1186    3    0    0    0]\n",
      " [   0  154    0    2    0]\n",
      " [   0    0  156    0    0]\n",
      " [   1    9    0  117    0]\n",
      " [   0    0    0    0  476]]\n"
     ]
    }
   ],
   "source": [
    "#Confusion Matrix - verify accuracy of each class\n",
    "from sklearn.metrics import confusion_matrix\n",
    "cm = confusion_matrix(test_labels, prediction_NN)\n",
    "print(cm)"
   ]
  },
  {
   "cell_type": "code",
   "execution_count": 33,
   "id": "e7eb8078",
   "metadata": {},
   "outputs": [
    {
     "name": "stdout",
     "output_type": "stream",
     "text": [
      "Accuracy =  0.9928707224334601\n"
     ]
    }
   ],
   "source": [
    "from sklearn import metrics\n",
    "print (\"Accuracy = \", metrics.accuracy_score(test_labels, prediction_NN))"
   ]
  },
  {
   "cell_type": "code",
   "execution_count": 34,
   "id": "4ce00190",
   "metadata": {
    "scrolled": true
   },
   "outputs": [
    {
     "name": "stdout",
     "output_type": "stream",
     "text": [
      "[[1186    3    0    0    0]\n",
      " [   0  154    0    2    0]\n",
      " [   0    0  156    0    0]\n",
      " [   1    9    0  117    0]\n",
      " [   0    0    0    0  476]]\n",
      "              precision    recall  f1-score   support\n",
      "\n",
      "     Class 0      0.999     0.997     0.998      1189\n",
      "     Class 1      0.928     0.987     0.957       156\n",
      "     Class 2      1.000     1.000     1.000       156\n",
      "     Class 3      0.983     0.921     0.951       127\n",
      "     Class 4      1.000     1.000     1.000       476\n",
      "\n",
      "    accuracy                          0.993      2104\n",
      "   macro avg      0.982     0.981     0.981      2104\n",
      "weighted avg      0.993     0.993     0.993      2104\n",
      "\n"
     ]
    }
   ],
   "source": [
    "# Use scikit-learn to get statistics\n",
    "from sklearn.metrics import confusion_matrix\n",
    "from sklearn.metrics import classification_report\n",
    "\n",
    "# print(class_labels)\n",
    "target_names = ['Class 0', 'Class 1', 'Class 2', 'Class 3', 'Class 4']\n",
    "print(confusion_matrix(test_labels, prediction_NN))\n",
    "print(classification_report(test_labels, prediction_NN, target_names=target_names,digits=3))"
   ]
  },
  {
   "cell_type": "code",
   "execution_count": 35,
   "id": "a8407f9c",
   "metadata": {},
   "outputs": [],
   "source": [
    "import matplotlib.pyplot as plt\n",
    "from mlxtend.plotting import plot_confusion_matrix"
   ]
  },
  {
   "cell_type": "code",
   "execution_count": 36,
   "id": "d5ee014b",
   "metadata": {},
   "outputs": [
    {
     "data": {
      "image/png": "[encoded data removed]",
      "text/plain": [
       "<Figure size 640x480 with 2 Axes>"
      ]
     },
     "metadata": {},
     "output_type": "display_data"
    }
   ],
   "source": [
    "class_dict = {0: 'Class 0',\n",
    "              1: 'Class 1',\n",
    "              2: 'Class 2',\n",
    "              3: 'Class 3',\n",
    "              4: 'Class 4'}\n",
    "\n",
    "multiclass = np.array([[1186,    3,    0,    0,    0],\n",
    "                       [0,  154,    0,    2,    0],\n",
    "                       [0,    0,  156,    0,    0],\n",
    "                       [1,    9,    0,  117,    0],\n",
    "                       [0,    0,    0,    0,  476]])\n",
    "\n",
    "fig, ax = plot_confusion_matrix(\n",
    "    conf_mat=multiclass,\n",
    "    class_names=class_dict.values(),show_normed=True,colorbar=True)"
   ]
  }
 ],
 "metadata": {
  "kernelspec": {
   "display_name": "Python 3 (ipykernel)",
   "language": "python",
   "name": "python3"
  },
  "language_info": {
   "codemirror_mode": {
    "name": "ipython",
    "version": 3
   },
   "file_extension": ".py",
   "mimetype": "text/x-python",
   "name": "python",
   "nbconvert_exporter": "python",
   "pygments_lexer": "ipython3",
   "version": "3.9.13"
  }
 },
 "nbformat": 4,
 "nbformat_minor": 5
}
